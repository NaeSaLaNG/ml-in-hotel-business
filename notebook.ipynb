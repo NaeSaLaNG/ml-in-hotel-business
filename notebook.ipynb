{
 "cells": [
  {
   "cell_type": "markdown",
   "metadata": {},
   "source": [
    "# Прогнозирование оттока клиентов в сети отелей «Как в гостях»"
   ]
  },
  {
   "cell_type": "markdown",
   "metadata": {},
   "source": [
    "Чтобы привлечь клиентов, эта сеть отелей добавила на свой сайт возможность забронировать номер без предоплаты. Однако если клиент отменял бронирование, то компания терпела убытки. Сотрудники отеля могли, например, закупить продукты к приезду гостя или просто не успеть найти другого клиента.\n",
    "\n",
    "Чтобы решить эту проблему, вам нужно разработать систему, которая предсказывает отказ от брони. Если модель покажет, что бронь будет отменена, то клиенту предлагается внести депозит. Размер депозита — 80% от стоимости номера за одни сутки и затрат на разовую уборку. Деньги будут списаны со счёта клиента, если он всё же отменит бронь.\n",
    "\n",
    "**Описание признаков:**\n",
    "- id — номер записи;\n",
    "- adults — количество взрослых постояльцев;\n",
    "- arrival_date_year — год заезда;\n",
    "- arrival_date_month — месяц заезда;\n",
    "- arrival_date_week_number — неделя заезда;\n",
    "- arrival_date_day_of_month — день заезда;\n",
    "- babies — количество младенцев;\n",
    "- booking_changes — количество изменений параметров заказа;\n",
    "- children — количество детей от 3 до 14 лет;\n",
    "- country — гражданство постояльца;\n",
    "- customer_type — тип заказчика:\n",
    "- days_in_waiting_list — сколько дней заказ ожидал подтверждения;\n",
    "- distribution_channel — канал дистрибуции заказа;\n",
    "- is_canceled — отмена заказа;\n",
    "- is_repeated_guest — признак того, что гость бронирует номер второй раз;\n",
    "- lead_time — количество дней между датой бронирования и датой прибытия;\n",
    "- meal — опции заказа:\n",
    "- previous_bookings_not_canceled — количество подтверждённых заказов у клиента;\n",
    "- previous_cancellations — количество отменённых заказов у клиента;\n",
    "- required_car_parking_spaces — необходимость места для автомобиля;\n",
    "- reserved_room_type — тип забронированной комнаты;\n",
    "- stays_in_weekend_nights — количество ночей в выходные дни;\n",
    "- stays_in_week_nights — количество ночей в будние дни;\n",
    "- total_nights — общее количество ночей;\n",
    "- total_of_special_requests — количество специальных отметок."
   ]
  },
  {
   "cell_type": "markdown",
   "metadata": {},
   "source": [
    "**План работы**\n",
    "1. Загрузка и предобработка данных.\n",
    "2. Обучение различных моделей:\n",
    "- LogisticRegression;\n",
    "- DecisionTreeClassifier;\n",
    "- Random Forest;\n",
    "3. Выбор наилучшей модели.\n",
    "4. Анализ влияния различных параметров на результат.\n",
    "5. Выполнение прогноза для тестовой выборки.\n",
    "6. Подсчет прибыли;\n",
    "7. Описание портрета «ненадёжного» клиента."
   ]
  },
  {
   "cell_type": "code",
   "execution_count": 1,
   "metadata": {},
   "outputs": [],
   "source": [
    "import warnings\n",
    "\n",
    "import seaborn as sns\n",
    "import pandas as pd\n",
    "import numpy as np\n",
    "\n",
    "import scipy.stats as stats\n",
    "import matplotlib.pyplot as plt\n",
    "\n",
    "from sklearn.linear_model import LogisticRegression\n",
    "from sklearn.tree import DecisionTreeClassifier\n",
    "from sklearn.ensemble import RandomForestClassifier\n",
    "from sklearn.metrics import roc_auc_score, f1_score\n",
    "from sklearn.model_selection import GridSearchCV , train_test_split\n",
    "from sklearn.preprocessing import OneHotEncoder\n",
    "\n",
    "warnings.filterwarnings(\"ignore\")\n",
    "pd.set_option('display.max_columns', None)"
   ]
  },
  {
   "cell_type": "code",
   "execution_count": 2,
   "metadata": {},
   "outputs": [],
   "source": [
    "parametrs_tree = {\n",
    "    \"max_depth\": np.arange(10, 20, 2),\n",
    "    'min_samples_leaf': np.arange(1, 8, 1),\n",
    "    'min_samples_split': np.arange(2, 10, 2),\n",
    "    \"class_weight\": [\"balanced\"]\n",
    "}\n",
    "parametrs_logistic = {\n",
    "    \"solver\": [\"lbfgs\", \"liblinear\", \"newton-cg\", \"newton-cholesky\", \"sag\", \"saga\"],\n",
    "    \"class_weight\": [\"balanced\"]\n",
    "}\n",
    "parametrs_forest = {\n",
    "    \"n_estimators\": np.arange(160, 210, 100),\n",
    "    \"max_depth\": np.arange(9, 12, 1),\n",
    "    'min_samples_leaf': np.arange(3, 6, 1),\n",
    "    'min_samples_split': np.arange(1, 4, 1),\n",
    "    \"class_weight\": [\"balanced\"]\n",
    "}"
   ]
  },
  {
   "cell_type": "markdown",
   "metadata": {},
   "source": [
    "Введем константы"
   ]
  },
  {
   "cell_type": "code",
   "execution_count": 3,
   "metadata": {},
   "outputs": [],
   "source": [
    "ROOM_COST = pd.DataFrame(data={'per_night': [1000, 800, 600, 550, 500, 450, 350],\n",
    "                               'once_service': [400, 350, 350, 150, 150, 150, 150]},\n",
    "                         index=[1, 2, 3, 4, 5, 6, 7])\n",
    "BUDGET = 400000\n",
    "OFF_SEASON_COEF = 1.2\n",
    "SUMMER_COEF = 1.4\n",
    "OFF_SEASON = [3, 4, 5, 9, 10, 11]\n",
    "SUMMER = [6, 7, 8]"
   ]
  },
  {
   "cell_type": "markdown",
   "metadata": {},
   "source": [
    "# Открываем файл с данными"
   ]
  },
  {
   "cell_type": "code",
   "execution_count": 4,
   "metadata": {},
   "outputs": [],
   "source": [
    "df = pd.read_csv('hotel_train.csv')"
   ]
  },
  {
   "cell_type": "markdown",
   "metadata": {},
   "source": [
    "# Предобработка и исследовательский анализ данных"
   ]
  },
  {
   "cell_type": "code",
   "execution_count": 5,
   "metadata": {},
   "outputs": [
    {
     "name": "stdout",
     "output_type": "stream",
     "text": [
      "<class 'pandas.core.frame.DataFrame'>\n",
      "RangeIndex: 65229 entries, 0 to 65228\n",
      "Data columns (total 25 columns):\n",
      " #   Column                          Non-Null Count  Dtype  \n",
      "---  ------                          --------------  -----  \n",
      " 0   id                              65229 non-null  int64  \n",
      " 1   is_canceled                     65229 non-null  int64  \n",
      " 2   lead_time                       65229 non-null  float64\n",
      " 3   arrival_date_year               65229 non-null  int64  \n",
      " 4   arrival_date_month              65229 non-null  object \n",
      " 5   arrival_date_week_number        65229 non-null  int64  \n",
      " 6   arrival_date_day_of_month       65229 non-null  int64  \n",
      " 7   stays_in_weekend_nights         65229 non-null  int64  \n",
      " 8   stays_in_week_nights            65229 non-null  int64  \n",
      " 9   adults                          65229 non-null  float64\n",
      " 10  children                        65229 non-null  float64\n",
      " 11  babies                          65229 non-null  float64\n",
      " 12  meal                            65229 non-null  object \n",
      " 13  country                         65229 non-null  object \n",
      " 14  distribution_channel            65229 non-null  object \n",
      " 15  is_repeated_guest               65229 non-null  int64  \n",
      " 16  previous_cancellations          65229 non-null  int64  \n",
      " 17  previous_bookings_not_canceled  65229 non-null  int64  \n",
      " 18  reserved_room_type              65229 non-null  object \n",
      " 19  booking_changes                 65229 non-null  int64  \n",
      " 20  days_in_waiting_list            65229 non-null  int64  \n",
      " 21  customer_type                   65229 non-null  object \n",
      " 22  required_car_parking_spaces     65229 non-null  int64  \n",
      " 23  total_of_special_requests       65229 non-null  int64  \n",
      " 24  total_nights                    65229 non-null  int64  \n",
      "dtypes: float64(4), int64(15), object(6)\n",
      "memory usage: 12.4+ MB\n"
     ]
    }
   ],
   "source": [
    "df.info()"
   ]
  },
  {
   "cell_type": "code",
   "execution_count": 6,
   "metadata": {},
   "outputs": [
    {
     "name": "stdout",
     "output_type": "stream",
     "text": [
      "Количество дубликатов 0\n",
      "Количество пропусков 0\n"
     ]
    }
   ],
   "source": [
    "print(f\"Количество дубликатов {df.duplicated().sum()}\")\n",
    "print(f\"Количество пропусков {df.isna().sum().sum()}\")"
   ]
  },
  {
   "cell_type": "markdown",
   "metadata": {},
   "source": [
    "**Ошибочных типов, дубликатов и пропусков в базе данных не обнаружилось.**"
   ]
  },
  {
   "cell_type": "code",
   "execution_count": 7,
   "metadata": {},
   "outputs": [
    {
     "name": "stdout",
     "output_type": "stream",
     "text": [
      "stays_in_weekend_nights 152\n",
      "adults 179\n",
      "children 1352\n",
      "babies 452\n",
      "is_repeated_guest 1771\n",
      "previous_cancellations 166\n",
      "previous_bookings_not_canceled 396\n",
      "booking_changes 2419\n",
      "days_in_waiting_list 1383\n",
      "required_car_parking_spaces 3682\n",
      "total_of_special_requests 1156\n",
      "total_nights 270\n"
     ]
    }
   ],
   "source": [
    "for index in range(1, 25):\n",
    "    if not df.iloc[:, index].dtypes == np.object_:\n",
    "        z_count = np.abs(stats.zscore(df.iloc[:, index])) > 3\n",
    "        if z_count.sum() > 0:\n",
    "            print(df.iloc[:, index].name, z_count.sum())"
   ]
  },
  {
   "cell_type": "markdown",
   "metadata": {},
   "source": [
    "Воспользовавшись z - оценкой вывели количество выбросов для каждого столбца. Для задач машинного обучения данные в выборке не должны содержать выбросов и быть максимально стандартизированы, так что единичные предельные значения необходимо удалить."
   ]
  },
  {
   "cell_type": "code",
   "execution_count": 8,
   "metadata": {},
   "outputs": [
    {
     "data": {
      "text/plain": [
       "53902"
      ]
     },
     "execution_count": 8,
     "metadata": {},
     "output_type": "execute_result"
    }
   ],
   "source": [
    "for index in range(1, 25):\n",
    "    if not df.iloc[:, index].dtypes == np.object_:\n",
    "        z_boolean = np.abs(stats.zscore(df.iloc[:, index])) < 3\n",
    "        df = df[z_boolean]\n",
    "len(df)"
   ]
  },
  {
   "cell_type": "markdown",
   "metadata": {},
   "source": [
    "Удалилось в общем 11327 выбросов по всем данным, это приблезительно 17% от начальных данных."
   ]
  },
  {
   "cell_type": "markdown",
   "metadata": {},
   "source": [
    "Удалим id записи не пригодиться в далнейшей работе."
   ]
  },
  {
   "cell_type": "code",
   "execution_count": 9,
   "metadata": {},
   "outputs": [],
   "source": [
    "df = df.drop('id', axis = 1)\n",
    "df = df.reset_index(drop = True)"
   ]
  },
  {
   "cell_type": "markdown",
   "metadata": {},
   "source": [
    "Перепишем индексы"
   ]
  },
  {
   "cell_type": "code",
   "execution_count": 10,
   "metadata": {},
   "outputs": [],
   "source": [
    "iso_countries = ['AFG', 'ALA', 'ALB', 'DZA', 'ASM', \n",
    "'AND', 'AGO', 'AIA', 'ATA', 'ATG', \n",
    "'ARG', 'ARM', 'ABW', 'AUS', 'AUT', \n",
    "'AZE', 'BHS', 'BHR', 'BGD', 'BRB', \n",
    "'BLR', 'BEL', 'BLZ', 'BEN', 'BMU', \n",
    "'BTN', 'BOL', 'BES', 'BIH', 'BWA', \n",
    "'BVT', 'BRA', 'IOT', 'BRN', 'BGR', \n",
    "'BFA', 'BDI', 'KHM', 'CMR', 'CAN', \n",
    "'CPV', 'CYM', 'CAF', 'TCD', 'CHL', \n",
    "'CHN', 'CXR', 'CCK', 'COL', 'COM', \n",
    "'COG', 'COD', 'COK', 'CRI', 'CIV', \n",
    "'HRV', 'CUB', 'CUW', 'CYP', 'CZE', \n",
    "'DNK', 'DJI', 'DMA', 'DOM', 'ECU', \n",
    "'EGY', 'SLV', 'GNQ', 'ERI', 'EST', \n",
    "'ETH', 'FLK', 'FRO', 'FJI', 'FIN', \n",
    "'FRA', 'GUF', 'PYF', 'ATF', 'GAB', \n",
    "'GMB', 'GEO', 'DEU', 'GHA', 'GIB', \n",
    "'GRC', 'GRL', 'GRD', 'GLP', 'GUM', \n",
    "'GTM', 'GGY', 'GIN', 'GNB', 'GUY', \n",
    "'HTI', 'HMD', 'VAT', 'HND', 'HKG', \n",
    "'HUN', 'ISL', 'IND', 'IDN', 'IRN', \n",
    "'IRQ', 'IRL', 'IMN', 'ISR', 'ITA', \n",
    "'JAM', 'JPN', 'JEY', 'JOR', 'KAZ', \n",
    "'KEN', 'KIR', 'PRK', 'KOR', 'XKX', \n",
    "'KWT', 'KGZ', 'LAO', 'LVA', 'LBN', \n",
    "'LSO', 'LBR', 'LBY', 'LIE', 'LTU', \n",
    "'LUX', 'MAC', 'MKD', 'MDG', 'MWI', \n",
    "'MYS', 'MDV', 'MLI', 'MLT', 'MHL', \n",
    "'MTQ', 'MRT', 'MUS', 'MYT', 'MEX', \n",
    "'FSM', 'MDA', 'MCO', 'MNG', 'MNE', \n",
    "'MSR', 'MAR', 'MOZ', 'MMR', 'NAM', \n",
    "'NRU', 'NPL', 'NLD', 'NCL', 'NZL', \n",
    "'NIC', 'NER', 'NGA', 'NIU', 'NFK', \n",
    "'MNP', 'NOR', 'OMN', 'PAK', 'PLW', \n",
    "'PSE', 'PAN', 'PNG', 'PRY', 'PER', \n",
    "'PHL', 'PCN', 'POL', 'PRT', 'PRI', \n",
    "'QAT', 'REU', 'ROU', 'RUS', 'RWA', \n",
    "'BLM', 'SHN', 'KNA', 'LCA', 'MAF', \n",
    "'SPM', 'VCT', 'WSM', 'SMR', 'STP', \n",
    "'SAU', 'SEN', 'SRB', 'SYC', 'SLE', \n",
    "'SGP', 'SXM', 'SVK', 'SVN', 'SLB', \n",
    "'SOM', 'ZAF', 'SGS', 'SSD', 'ESP', \n",
    "'LKA', 'SDN', 'SUR', 'SJM', 'SWZ', \n",
    "'SWE', 'CHE', 'SYR', 'TWN', 'TJK', \n",
    "'TZA', 'THA', 'TLS', 'TGO', 'TKL', \n",
    "'TON', 'TTO', 'TUN', 'TUR', 'TKM', \n",
    "'TCA', 'TUV', 'UGA', 'UKR', 'ARE', \n",
    "'GBR', 'USA', 'UMI', 'URY', 'UZB', \n",
    "'VUT', 'VEN', 'VNM', 'VGB', 'VIR', \n",
    "'WLF', 'ESH', 'YEM', 'ZMB', 'ZWE']"
   ]
  },
  {
   "cell_type": "code",
   "execution_count": 11,
   "metadata": {},
   "outputs": [
    {
     "name": "stdout",
     "output_type": "stream",
     "text": [
      "CN\n",
      "TMP\n"
     ]
    }
   ],
   "source": [
    "for i in df['country'].unique():\n",
    "    if i in iso_countries:\n",
    "        continue\n",
    "    else:\n",
    "        print(i)"
   ]
  },
  {
   "cell_type": "markdown",
   "metadata": {},
   "source": [
    "**В странах имеется нестандартнизированный код Китая. Поменяем его на CHN.**"
   ]
  },
  {
   "cell_type": "code",
   "execution_count": 12,
   "metadata": {},
   "outputs": [],
   "source": [
    "df['country'] = df['country'].replace('CN', 'CHN')"
   ]
  },
  {
   "cell_type": "code",
   "execution_count": 13,
   "metadata": {},
   "outputs": [
    {
     "data": {
      "text/plain": [
       "array(['BB       ', 'FB       ', 'HB       ', 'SC', 'SC       '],\n",
       "      dtype=object)"
      ]
     },
     "execution_count": 13,
     "metadata": {},
     "output_type": "execute_result"
    }
   ],
   "source": [
    "df['meal'].unique()"
   ]
  },
  {
   "cell_type": "code",
   "execution_count": 14,
   "metadata": {},
   "outputs": [
    {
     "data": {
      "text/plain": [
       "array(['A               ', 'C               ', 'D               ',\n",
       "       'E               ', 'G               ', 'F               ',\n",
       "       'B               '], dtype=object)"
      ]
     },
     "execution_count": 14,
     "metadata": {},
     "output_type": "execute_result"
    }
   ],
   "source": [
    "df.reserved_room_type.unique()"
   ]
  },
  {
   "cell_type": "code",
   "execution_count": 15,
   "metadata": {},
   "outputs": [
    {
     "data": {
      "text/plain": [
       "array(['BB       ', 'FB       ', 'HB       ', 'SC', 'SC       '],\n",
       "      dtype=object)"
      ]
     },
     "execution_count": 15,
     "metadata": {},
     "output_type": "execute_result"
    }
   ],
   "source": [
    "df.meal.unique()"
   ]
  },
  {
   "cell_type": "code",
   "execution_count": 16,
   "metadata": {},
   "outputs": [
    {
     "data": {
      "text/plain": [
       "array(['Direct', 'TA/TO', 'Corporate', 'GDS'], dtype=object)"
      ]
     },
     "execution_count": 16,
     "metadata": {},
     "output_type": "execute_result"
    }
   ],
   "source": [
    "df['distribution_channel'].unique()"
   ]
  },
  {
   "cell_type": "code",
   "execution_count": 17,
   "metadata": {
    "scrolled": true
   },
   "outputs": [
    {
     "data": {
      "text/plain": [
       "array(['A               ', 'C               ', 'D               ',\n",
       "       'E               ', 'G               ', 'F               ',\n",
       "       'B               '], dtype=object)"
      ]
     },
     "execution_count": 17,
     "metadata": {},
     "output_type": "execute_result"
    }
   ],
   "source": [
    "df['reserved_room_type'].unique()"
   ]
  },
  {
   "cell_type": "markdown",
   "metadata": {},
   "source": [
    "**Наблюдаются ошибочные пробелы.**"
   ]
  },
  {
   "cell_type": "code",
   "execution_count": 18,
   "metadata": {},
   "outputs": [],
   "source": [
    "categ_columns = df.select_dtypes(include = 'object').columns\n",
    "for col in categ_columns:\n",
    "    df[col] = df[col].str.strip()"
   ]
  },
  {
   "cell_type": "markdown",
   "metadata": {},
   "source": [
    "## Расмотрим распределения данных."
   ]
  },
  {
   "cell_type": "code",
   "execution_count": 19,
   "metadata": {},
   "outputs": [
    {
     "data": {
      "image/png": "[encoded data removed]",
      "text/plain": [
       "<Figure size 640x480 with 1 Axes>"
      ]
     },
     "metadata": {},
     "output_type": "display_data"
    }
   ],
   "source": [
    "df['lead_time'].plot(kind = 'hist', bins = 120)\n",
    "plt.title('Количество посетителей по количеству дней\\n между датой бронирования и датой прибытия')\n",
    "plt.xlabel(\"Количество дней между датой \\n бронирования и датой прибытия\")\n",
    "plt.ylabel(\"Количество\");"
   ]
  },
  {
   "cell_type": "code",
   "execution_count": 20,
   "metadata": {
    "scrolled": false
   },
   "outputs": [
    {
     "data": {
      "image/png": "[encoded data removed]",
      "text/plain": [
       "<Figure size 640x480 with 1 Axes>"
      ]
     },
     "metadata": {},
     "output_type": "display_data"
    }
   ],
   "source": [
    "df['adults'].value_counts().sort_index().plot(kind = 'bar')\n",
    "plt.title('Количество посетителей по количеству взрослых')\n",
    "plt.xlabel(\"Количество взрослых\")\n",
    "plt.ylabel(\"Количество\");"
   ]
  },
  {
   "cell_type": "code",
   "execution_count": 21,
   "metadata": {},
   "outputs": [
    {
     "data": {
      "image/png": "[encoded data removed]",
      "text/plain": [
       "<Figure size 640x480 with 1 Axes>"
      ]
     },
     "metadata": {},
     "output_type": "display_data"
    }
   ],
   "source": [
    "df['total_nights'].value_counts().sort_index().plot(kind = 'bar')\n",
    "plt.title('Количество посетителей по количеству ночей')\n",
    "plt.xlabel(\"Количество ночей\")\n",
    "plt.ylabel(\"Количество\");"
   ]
  },
  {
   "cell_type": "code",
   "execution_count": 22,
   "metadata": {},
   "outputs": [
    {
     "data": {
      "image/png": "[encoded data removed]",
      "text/plain": [
       "<Figure size 640x480 with 1 Axes>"
      ]
     },
     "metadata": {},
     "output_type": "display_data"
    }
   ],
   "source": [
    "df['arrival_date_month'].value_counts().\\\n",
    "reindex(index = ['December', 'January', 'February',\n",
    "                 'March', 'April', 'May', \n",
    "                 'June', 'July', 'August',\n",
    "                 'September', 'October', 'November']).plot(kind = 'bar')\n",
    "plt.title('Количество посетителей в разные месяцы')\n",
    "plt.xlabel(\"Месяц\")\n",
    "plt.ylabel(\"Количество\");"
   ]
  },
  {
   "cell_type": "code",
   "execution_count": 23,
   "metadata": {
    "scrolled": false
   },
   "outputs": [
    {
     "data": {
      "image/png": "[encoded data removed]",
      "text/plain": [
       "<Figure size 640x480 with 1 Axes>"
      ]
     },
     "metadata": {},
     "output_type": "display_data"
    }
   ],
   "source": [
    "df['reserved_room_type'].value_counts().sort_index().plot(kind = 'bar')\n",
    "plt.title('Количество посетителей по разным типам комнат')\n",
    "plt.xlabel(\"Тип комнаты\")\n",
    "plt.ylabel(\"Количество\");"
   ]
  },
  {
   "cell_type": "markdown",
   "metadata": {},
   "source": [
    "- **Чаще всего снимают самые дорогие комнаты.**\n",
    "- **Осенью чаще всего снимают комнаты, меньше всего в Январе.**\n",
    "- **Чаще всего комната нужна на 2-3 дня.**"
   ]
  },
  {
   "cell_type": "code",
   "execution_count": 24,
   "metadata": {},
   "outputs": [
    {
     "data": {
      "text/plain": [
       "array(['July', 'August', 'September', 'October', 'November', 'December',\n",
       "       'January', 'February', 'March', 'April', 'May', 'June'],\n",
       "      dtype=object)"
      ]
     },
     "execution_count": 24,
     "metadata": {},
     "output_type": "execute_result"
    }
   ],
   "source": [
    "df['arrival_date_month'].unique()"
   ]
  },
  {
   "cell_type": "code",
   "execution_count": 25,
   "metadata": {},
   "outputs": [],
   "source": [
    "reserved_room_type_dict = {'A': 1, 'C': 2,\n",
    "                           'D': 3, 'E': 4, 'G': 5, 'F': 6, 'B': 7}\n",
    "arrival_date_month_dict = {'December':12, 'January':1, 'February':2,\n",
    "                           'March':3, 'April':4, 'May':5,\n",
    "                           'June':6, 'July':7, 'August':8,\n",
    "                           'September':9, 'October':10, 'November':11}\n",
    "\n",
    "replacing_dict = {'reserved_room_type': reserved_room_type_dict,\n",
    "                  'arrival_date_month': arrival_date_month_dict}\n",
    "\n",
    "df = df.replace(replacing_dict)"
   ]
  },
  {
   "cell_type": "code",
   "execution_count": 26,
   "metadata": {},
   "outputs": [],
   "source": [
    "categ_columns = df.select_dtypes(include = 'object').columns\n",
    "encoder = OneHotEncoder(handle_unknown = 'ignore')\n",
    "encoder.fit(df[categ_columns])\n",
    "df = pd.concat([pd.DataFrame(encoder.transform(df[categ_columns]).toarray()), df], axis = 1)\n",
    "df = df.drop(categ_columns, axis = 1)"
   ]
  },
  {
   "cell_type": "code",
   "execution_count": 27,
   "metadata": {},
   "outputs": [],
   "source": [
    "df.columns = [str(col) for col in df.columns]"
   ]
  },
  {
   "cell_type": "markdown",
   "metadata": {},
   "source": [
    "### Шаг 3. Формулировка ML-задачи на основе бизнес-задачи"
   ]
  },
  {
   "cell_type": "code",
   "execution_count": 53,
   "metadata": {},
   "outputs": [],
   "source": [
    "def income(row):\n",
    "    month = row['arrival_date_month']\n",
    "    room_type = row['reserved_room_type']\n",
    "    \n",
    "    season_coef = 1\n",
    "    if month in SUMMER:\n",
    "        season_coef = SUMMER_COEF\n",
    "    elif month in OFF_SEASON:\n",
    "        season_coef = OFF_SEASON_COEF\n",
    "    \n",
    "    once_service = ROOM_COST['once_service'][room_type]\n",
    "    night_cost = ROOM_COST['per_night'][room_type]\n",
    "    \n",
    "    income = 0\n",
    "    \n",
    "    if row['is_canceled'] == 1:\n",
    "        income -= once_service + night_cost * season_coef\n",
    "    else:\n",
    "        income -= (np.ceil(row['total_nights'] / 2)) * once_service\n",
    "        income += row['total_nights'] * night_cost * season_coef\n",
    "        \n",
    "    return income"
   ]
  },
  {
   "cell_type": "markdown",
   "metadata": {},
   "source": [
    "Воспользуюсь функцией после импорта тестовых данных"
   ]
  },
  {
   "cell_type": "markdown",
   "metadata": {},
   "source": [
    "### Шаг 4. Разработка модели ML"
   ]
  },
  {
   "cell_type": "markdown",
   "metadata": {},
   "source": [
    "#### Разработка модели ML"
   ]
  },
  {
   "cell_type": "code",
   "execution_count": 29,
   "metadata": {},
   "outputs": [
    {
     "data": {
      "image/png": "[encoded data removed]",
      "text/plain": [
       "<Figure size 640x480 with 1 Axes>"
      ]
     },
     "metadata": {},
     "output_type": "display_data"
    }
   ],
   "source": [
    "df['is_canceled'].value_counts().plot(kind = \"pie\", autopct='%.2f')\n",
    "plt.title(\"Распределение целевого признака\")\n",
    "plt.xticks(rotation = 0);"
   ]
  },
  {
   "cell_type": "markdown",
   "metadata": {},
   "source": [
    "Баланс классов приемлемый."
   ]
  },
  {
   "cell_type": "markdown",
   "metadata": {},
   "source": [
    "Для подбора гиперпараметров будем использовать AUC-score из-за низкой чувствительности к дисбалансу классов.\n",
    "\n",
    "Закоментирую подбор, продублировав в markdown самые важные гиперпараметры и лучшую точность."
   ]
  },
  {
   "cell_type": "code",
   "execution_count": 30,
   "metadata": {},
   "outputs": [],
   "source": [
    "features = df.drop('is_canceled', axis = 1)\n",
    "target = df['is_canceled']"
   ]
  },
  {
   "cell_type": "code",
   "execution_count": 31,
   "metadata": {
    "scrolled": true
   },
   "outputs": [],
   "source": [
    "# logistic_model = LogisticRegression(random_state = 12345)\n",
    "# grid = GridSearchCV(logistic_model, parametrs_logistic, cv=5, scoring = 'roc_auc')\n",
    "# grid.fit(features, target)\n",
    "# print(\"Лучшие параметры:\", grid.best_params_)\n",
    "# print(\"Лучший результат\", grid.best_score_)"
   ]
  },
  {
   "cell_type": "markdown",
   "metadata": {},
   "source": [
    "Лучшие параметры: {'class_weight': 'balanced', 'solver': 'liblinear'}\n",
    "\n",
    "Лучший результат 0.8341778593822508"
   ]
  },
  {
   "cell_type": "code",
   "execution_count": 32,
   "metadata": {},
   "outputs": [],
   "source": [
    "# tree_model = DecisionTreeClassifier(random_state = 12345)\n",
    "# grid = GridSearchCV(tree_model, parametrs_tree, cv=5, scoring = 'roc_auc', verbose=10)\n",
    "# grid.fit(features, target)\n",
    "# print(\"Лучшие параметры:\", grid.best_params_)\n",
    "# print(\"Лучший результат\", grid.best_score_)"
   ]
  },
  {
   "cell_type": "markdown",
   "metadata": {},
   "source": [
    "Лучшие параметры: {'class_weight': 'balanced', 'max_depth': 10, 'min_samples_leaf': 1, 'min_samples_split': 2}\n",
    "\n",
    "Лучший результат 0.8167774820273312"
   ]
  },
  {
   "cell_type": "code",
   "execution_count": 33,
   "metadata": {},
   "outputs": [],
   "source": [
    "# forest_model = RandomForestClassifier(random_state = 12345)\n",
    "# grid = GridSearchCV(forest_model, parametrs_forest, cv=5, scoring = 'roc_auc', verbose=10)\n",
    "# grid.fit(features, target)\n",
    "# print(\"Лучшие параметры:\", grid.best_params_)\n",
    "# print(\"Лучший результат\", grid.best_score_)"
   ]
  },
  {
   "cell_type": "markdown",
   "metadata": {},
   "source": [
    "Окончательный результат:\n",
    "\n",
    "Лучшие параметры: {'class_weight': 'balanced', 'max_depth': 10, 'min_samples_leaf': 4, 'min_samples_split': 1, 'n_estimators': 160}\n",
    "\n",
    "Лучший результат 0.9118000214762719"
   ]
  },
  {
   "cell_type": "markdown",
   "metadata": {},
   "source": [
    "Лучший результат показала модель рандомного леса. Для теста на тесовой выборке будет использовать эту модель."
   ]
  },
  {
   "cell_type": "code",
   "execution_count": 34,
   "metadata": {
    "scrolled": true
   },
   "outputs": [
    {
     "name": "stdout",
     "output_type": "stream",
     "text": [
      "F1 score = 0.7860175018379302\n",
      "ROC-AUC score = 0.9102700434164324\n"
     ]
    }
   ],
   "source": [
    "model = RandomForestClassifier(random_state = 12345, class_weight = 'balanced',\n",
    "                                max_depth = 10, min_samples_leaf = 4,\n",
    "                               min_samples_split = 2, n_estimators = 160)\n",
    "model.fit(features, target)\n",
    "predict = model.predict(features)\n",
    "probabilities = model.predict_proba(features)[:, 1]\n",
    "f1 = f1_score(target, predict)\n",
    "roc_auc = roc_auc_score(target, probabilities)\n",
    "print(\"F1 score =\", f1)\n",
    "print('ROC-AUC score =', roc_auc)"
   ]
  },
  {
   "cell_type": "markdown",
   "metadata": {},
   "source": [
    "Отличные результаты. Точность высокая."
   ]
  },
  {
   "cell_type": "markdown",
   "metadata": {},
   "source": [
    "#### Тест на тестовой выборке"
   ]
  },
  {
   "cell_type": "code",
   "execution_count": 35,
   "metadata": {},
   "outputs": [],
   "source": [
    "df_test = pd.read_csv('hotel_test.csv')"
   ]
  },
  {
   "cell_type": "markdown",
   "metadata": {},
   "source": [
    "*Проведем предработку данных*"
   ]
  },
  {
   "cell_type": "code",
   "execution_count": 36,
   "metadata": {},
   "outputs": [],
   "source": [
    "df_test = df_test.drop('id', axis = 1)\n",
    "for col in categ_columns:\n",
    "    df_test[col] = df_test[col].str.strip()\n",
    "df_test = df_test.replace(replacing_dict)\n",
    "df_test = pd.concat([pd.DataFrame(encoder.transform(df_test[categ_columns]).toarray()), df_test], axis = 1)\n",
    "df_test = df_test.drop(categ_columns, axis = 1)\n",
    "df_test.columns = [str(col) for col in df_test.columns]"
   ]
  },
  {
   "cell_type": "code",
   "execution_count": 37,
   "metadata": {},
   "outputs": [
    {
     "name": "stdout",
     "output_type": "stream",
     "text": [
      "F1 score = 0.7860175018379302\n",
      "ROC-AUC score = 0.9102700434164324\n"
     ]
    }
   ],
   "source": [
    "features_test = df.drop('is_canceled', axis = 1)\n",
    "target_test = df['is_canceled']\n",
    "\n",
    "\n",
    "predict = model.predict(features_test)\n",
    "probabilities = model.predict_proba(features_test)[:, 1]\n",
    "\n",
    "f1 = f1_score(target_test, predict)\n",
    "roc_auc = roc_auc_score(target_test, probabilities)\n",
    "\n",
    "print(\"F1 score =\", f1)\n",
    "print('ROC-AUC score =', roc_auc)"
   ]
  },
  {
   "cell_type": "markdown",
   "metadata": {},
   "source": [
    "Отличный результат: ROC-AUC в 0.91 и f1 в 0.78\n",
    "\n",
    "Теперь приступим к подсчету прибыли"
   ]
  },
  {
   "cell_type": "markdown",
   "metadata": {},
   "source": [
    "#### Подсчет прибыли."
   ]
  },
  {
   "cell_type": "code",
   "execution_count": 56,
   "metadata": {},
   "outputs": [],
   "source": [
    "def income_with_sys(row): \n",
    "    month = row['arrival_date_month']\n",
    "    room_type = row['reserved_room_type']\n",
    "    \n",
    "    season_coef = 1\n",
    "    if month in SUMMER:\n",
    "        season_coef = SUMMER_COEF\n",
    "    elif month in OFF_SEASON:\n",
    "        season_coef = OFF_SEASON_COEF\n",
    "    \n",
    "    once_service = ROOM_COST['once_service'][room_type]\n",
    "    night_cost = ROOM_COST['per_night'][room_type]\n",
    "    \n",
    "    income = 0\n",
    "    \n",
    "    if row['predict'] == 0 and row['is_canceled'] == 1:\n",
    "        income -= once_service + night_cost * season_coef\n",
    "    elif row['predict'] == 1 and row['is_canceled'] == 1:\n",
    "        global sys_income, count_sys_work\n",
    "        sys_income += once_service + night_cost * season_coef\n",
    "        count_sys_work += 1\n",
    "        income -= (once_service + night_cost * season_coef) * 0.2\n",
    "    else: #predict = target = 0 or predict = 1 and target = 0\n",
    "        income -= (np.ceil(row['total_nights'] / 2)) * once_service\n",
    "        income += row['total_nights'] * night_cost * season_coef\n",
    "        \n",
    "    return income"
   ]
  },
  {
   "cell_type": "code",
   "execution_count": 57,
   "metadata": {
    "scrolled": true
   },
   "outputs": [],
   "source": [
    "features_test['predict'] = predict\n",
    "features_test['is_canceled'] = target_test\n",
    "\n",
    "features_test['income_witout_system'] = features_test.apply(income, axis = 1)"
   ]
  },
  {
   "cell_type": "code",
   "execution_count": 60,
   "metadata": {},
   "outputs": [],
   "source": [
    "sys_income = 0\n",
    "count_sys_work = 0\n",
    "features_test['income_with_system'] = features_test.apply(income_with_sys, axis = 1)"
   ]
  },
  {
   "cell_type": "code",
   "execution_count": 61,
   "metadata": {},
   "outputs": [
    {
     "name": "stdout",
     "output_type": "stream",
     "text": [
      "Доход без внедренной системы: 52391710.0\n",
      "Доход c внедренной системы: 73013814.0\n",
      "Доход принесенный системой: 20622104.0\n",
      "Доход принесенный системой с учетом бюджета: 20222104.0\n",
      "Убытки предотвращенные системой: 25777630.0\n"
     ]
    }
   ],
   "source": [
    "income_with_system = features_test['income_with_system'].sum()\n",
    "income_without_system = features_test['income_witout_system'].sum()\n",
    "income_system = income_with_system - income_without_system\n",
    "\n",
    "print('Доход без внедренной системы:',income_without_system)\n",
    "print('Доход c внедренной системы:', income_with_system)\n",
    "print('Доход принесенный системой:', income_system)\n",
    "print('Доход принесенный системой с учетом бюджета:', income_system - BUDGET)\n",
    "print('Убытки предотвращенные системой:', sys_income)"
   ]
  },
  {
   "cell_type": "markdown",
   "metadata": {},
   "source": [
    "Система окупила себя на 20222104, что в 50 раз больше суммы бюджета.\n",
    "\n",
    "Предотвртила убытоки в размере 25777630, что состовляет 35% от всего дохода отеля с внедренной системой."
   ]
  },
  {
   "cell_type": "markdown",
   "metadata": {},
   "source": [
    "### Шаг 5. Опишите портрет «ненадёжного» клиента"
   ]
  },
  {
   "cell_type": "code",
   "execution_count": 62,
   "metadata": {},
   "outputs": [],
   "source": [
    "df = pd.read_csv('hotel_test.csv')"
   ]
  },
  {
   "cell_type": "code",
   "execution_count": 63,
   "metadata": {},
   "outputs": [
    {
     "data": {
      "image/png": "[encoded data removed]",
      "text/plain": [
       "<Figure size 1000x500 with 1 Axes>"
      ]
     },
     "metadata": {},
     "output_type": "display_data"
    }
   ],
   "source": [
    "df.groupby('is_canceled')['total_nights', 'adults',\n",
    "                          'children', 'babies',\n",
    "                          'is_repeated_guest', 'previous_cancellations', \n",
    "                          'previous_bookings_not_canceled', 'total_of_special_requests',\n",
    "                          'days_in_waiting_list',].mean()\\\n",
    "                        .plot(kind = 'bar', figsize = (10,5))\n",
    "plt.title('Соотношение отмененных заказов по различный параметрам')\n",
    "plt.xlabel(\"Статус\")\n",
    "plt.ylabel(\"Количество\");"
   ]
  },
  {
   "cell_type": "code",
   "execution_count": 64,
   "metadata": {
    "scrolled": false
   },
   "outputs": [
    {
     "data": {
      "image/png": "[encoded data removed]",
      "text/plain": [
       "<Figure size 300x300 with 1 Axes>"
      ]
     },
     "metadata": {},
     "output_type": "display_data"
    }
   ],
   "source": [
    "df.groupby('is_canceled')['lead_time'].mean()\\\n",
    "                        .plot(kind = 'bar', figsize = (3, 3))\n",
    "plt.title('Соотношение отмененных заказов по времени ожидания')\n",
    "plt.xlabel(\"Статус\")\n",
    "plt.ylabel(\"Количество\");"
   ]
  },
  {
   "cell_type": "code",
   "execution_count": 67,
   "metadata": {},
   "outputs": [
    {
     "data": {
      "image/png": "[encoded data removed]",
      "text/plain": [
       "<Figure size 640x480 with 1 Axes>"
      ]
     },
     "metadata": {},
     "output_type": "display_data"
    }
   ],
   "source": [
    "pd.Series(data = model.feature_importances_, index = features.columns).\\\n",
    "sort_values(ascending = False).head(10).plot(kind = 'bar')\n",
    "plt.title('Важность параметров для модели')\n",
    "plt.xlabel(\"Параметр\")\n",
    "plt.ylabel(\"Коэф. важности\");"
   ]
  },
  {
   "cell_type": "markdown",
   "metadata": {},
   "source": [
    "Для вычисления ненадежного клиента следует обратить внимание на следующее:\n",
    "- Длительное время между датой бронирования и датой прибытия;\n",
    "- Большое количество предыдущих отмен заказа;\n",
    "- Малое количество специальных отметок."
   ]
  },
  {
   "cell_type": "markdown",
   "metadata": {},
   "source": [
    "### Шаг 6. Напишите общий вывод"
   ]
  },
  {
   "cell_type": "markdown",
   "metadata": {},
   "source": [
    "Стоит применить систему депозитов. \n",
    "\n",
    "За 2017 система увеличила доход на 25%."
   ]
  }
 ],
 "metadata": {
  "ExecuteTimeLog": [
   {
    "duration": 396,
    "start_time": "2023-02-03T10:00:31.518Z"
   },
   {
    "duration": 551,
    "start_time": "2023-02-03T10:01:14.424Z"
   },
   {
    "duration": 27,
    "start_time": "2023-02-03T10:01:22.423Z"
   },
   {
    "duration": 62,
    "start_time": "2023-02-03T10:01:38.260Z"
   },
   {
    "duration": 63,
    "start_time": "2023-02-03T10:01:49.346Z"
   },
   {
    "duration": 21,
    "start_time": "2023-02-03T10:01:58.696Z"
   },
   {
    "duration": 48,
    "start_time": "2023-02-05T07:05:35.056Z"
   },
   {
    "duration": 366,
    "start_time": "2023-02-05T07:05:38.585Z"
   },
   {
    "duration": 569,
    "start_time": "2023-02-05T07:05:39.212Z"
   },
   {
    "duration": 27,
    "start_time": "2023-02-05T07:05:39.912Z"
   },
   {
    "duration": 62,
    "start_time": "2023-02-05T07:05:40.357Z"
   },
   {
    "duration": 69987,
    "start_time": "2023-02-05T07:06:49.367Z"
   },
   {
    "duration": 5,
    "start_time": "2023-02-05T07:09:32.317Z"
   },
   {
    "duration": 50,
    "start_time": "2023-02-05T07:09:46.645Z"
   },
   {
    "duration": 5,
    "start_time": "2023-02-05T07:09:49.098Z"
   },
   {
    "duration": 5,
    "start_time": "2023-02-05T07:10:15.419Z"
   },
   {
    "duration": 5,
    "start_time": "2023-02-05T07:10:53.743Z"
   },
   {
    "duration": 5,
    "start_time": "2023-02-05T07:10:58.534Z"
   },
   {
    "duration": 9,
    "start_time": "2023-02-05T07:11:21.530Z"
   },
   {
    "duration": 13,
    "start_time": "2023-02-05T07:11:25.201Z"
   },
   {
    "duration": 11,
    "start_time": "2023-02-05T07:11:28.741Z"
   },
   {
    "duration": 11,
    "start_time": "2023-02-05T07:11:31.716Z"
   },
   {
    "duration": 4,
    "start_time": "2023-02-05T07:12:06.143Z"
   },
   {
    "duration": 12,
    "start_time": "2023-02-05T07:12:09.597Z"
   },
   {
    "duration": 5,
    "start_time": "2023-02-05T07:12:12.722Z"
   },
   {
    "duration": 5,
    "start_time": "2023-02-05T07:12:32.578Z"
   },
   {
    "duration": 3,
    "start_time": "2023-02-05T07:13:07.506Z"
   },
   {
    "duration": 7,
    "start_time": "2023-02-05T07:13:14.532Z"
   },
   {
    "duration": 6,
    "start_time": "2023-02-05T07:13:45.319Z"
   },
   {
    "duration": 5,
    "start_time": "2023-02-05T07:14:16.917Z"
   },
   {
    "duration": 51,
    "start_time": "2023-02-05T07:15:26.956Z"
   },
   {
    "duration": 5,
    "start_time": "2023-02-05T07:15:30.989Z"
   },
   {
    "duration": 5,
    "start_time": "2023-02-05T07:15:36.532Z"
   },
   {
    "duration": 99,
    "start_time": "2023-02-05T07:16:22.969Z"
   },
   {
    "duration": 5,
    "start_time": "2023-02-05T07:16:26.568Z"
   },
   {
    "duration": 519,
    "start_time": "2023-02-05T07:17:35.758Z"
   },
   {
    "duration": 1142,
    "start_time": "2023-02-05T07:17:46.846Z"
   },
   {
    "duration": 1150,
    "start_time": "2023-02-05T07:19:19.028Z"
   },
   {
    "duration": 2013,
    "start_time": "2023-02-05T07:21:16.402Z"
   },
   {
    "duration": 8,
    "start_time": "2023-02-05T07:21:19.657Z"
   },
   {
    "duration": 1067,
    "start_time": "2023-02-05T07:21:22.624Z"
   },
   {
    "duration": 70,
    "start_time": "2023-02-05T07:21:56.197Z"
   },
   {
    "duration": 76,
    "start_time": "2023-02-05T07:22:01.987Z"
   },
   {
    "duration": 7,
    "start_time": "2023-02-05T07:25:19.773Z"
   },
   {
    "duration": 428,
    "start_time": "2023-02-05T07:25:21.698Z"
   },
   {
    "duration": 33,
    "start_time": "2023-02-05T07:25:26.103Z"
   },
   {
    "duration": 4109,
    "start_time": "2023-02-05T07:25:29.713Z"
   },
   {
    "duration": 72,
    "start_time": "2023-02-05T07:26:11.853Z"
   },
   {
    "duration": 57,
    "start_time": "2023-02-05T07:26:18.052Z"
   },
   {
    "duration": 46,
    "start_time": "2023-02-05T07:27:19.343Z"
   },
   {
    "duration": 47,
    "start_time": "2023-02-05T07:28:05.331Z"
   },
   {
    "duration": 48,
    "start_time": "2023-02-05T07:28:10.687Z"
   },
   {
    "duration": 48,
    "start_time": "2023-02-05T07:28:18.002Z"
   },
   {
    "duration": 122,
    "start_time": "2023-02-05T07:36:41.132Z"
   },
   {
    "duration": 23,
    "start_time": "2023-02-05T07:36:46.768Z"
   },
   {
    "duration": 46,
    "start_time": "2023-02-05T07:40:06.738Z"
   },
   {
    "duration": 17,
    "start_time": "2023-02-05T07:41:07.236Z"
   },
   {
    "duration": 7,
    "start_time": "2023-02-05T07:41:13.302Z"
   },
   {
    "duration": 36,
    "start_time": "2023-02-05T07:41:16.772Z"
   },
   {
    "duration": 5,
    "start_time": "2023-02-05T07:41:44.658Z"
   },
   {
    "duration": 4,
    "start_time": "2023-02-05T07:57:06.624Z"
   },
   {
    "duration": 6,
    "start_time": "2023-02-05T07:57:14.218Z"
   },
   {
    "duration": 4,
    "start_time": "2023-02-05T08:00:08.090Z"
   },
   {
    "duration": 34,
    "start_time": "2023-02-05T08:03:16.679Z"
   },
   {
    "duration": 9,
    "start_time": "2023-02-05T08:09:02.327Z"
   },
   {
    "duration": 9,
    "start_time": "2023-02-05T08:09:22.908Z"
   },
   {
    "duration": 5,
    "start_time": "2023-02-05T08:09:30.554Z"
   },
   {
    "duration": 8,
    "start_time": "2023-02-05T08:09:34.043Z"
   },
   {
    "duration": 12,
    "start_time": "2023-02-05T08:10:04.834Z"
   },
   {
    "duration": 6,
    "start_time": "2023-02-05T09:18:00.880Z"
   },
   {
    "duration": 9,
    "start_time": "2023-02-05T09:18:38.042Z"
   },
   {
    "duration": 5,
    "start_time": "2023-02-05T09:18:43.170Z"
   },
   {
    "duration": 7,
    "start_time": "2023-02-05T09:20:13.731Z"
   },
   {
    "duration": 3,
    "start_time": "2023-02-05T09:20:35.789Z"
   },
   {
    "duration": 726,
    "start_time": "2023-02-05T09:20:55.094Z"
   },
   {
    "duration": 46,
    "start_time": "2023-02-05T09:21:14.853Z"
   },
   {
    "duration": 362,
    "start_time": "2023-02-05T09:21:18.093Z"
   },
   {
    "duration": 50,
    "start_time": "2023-02-05T09:21:35.567Z"
   },
   {
    "duration": 18,
    "start_time": "2023-02-05T09:21:47.457Z"
   },
   {
    "duration": 11,
    "start_time": "2023-02-05T09:22:02.709Z"
   },
   {
    "duration": 12,
    "start_time": "2023-02-05T09:22:32.732Z"
   },
   {
    "duration": 14,
    "start_time": "2023-02-05T09:22:37.597Z"
   },
   {
    "duration": 3,
    "start_time": "2023-02-05T09:22:43.081Z"
   },
   {
    "duration": 798,
    "start_time": "2023-02-05T09:22:51.175Z"
   },
   {
    "duration": 15,
    "start_time": "2023-02-05T09:23:00.083Z"
   },
   {
    "duration": 52,
    "start_time": "2023-02-05T09:23:16.234Z"
   },
   {
    "duration": 5,
    "start_time": "2023-02-05T09:23:21.826Z"
   },
   {
    "duration": 3,
    "start_time": "2023-02-05T09:24:03.511Z"
   },
   {
    "duration": 376,
    "start_time": "2023-02-05T09:24:05.205Z"
   },
   {
    "duration": 777,
    "start_time": "2023-02-05T09:24:31.976Z"
   },
   {
    "duration": 733,
    "start_time": "2023-02-05T09:24:42.480Z"
   },
   {
    "duration": 840,
    "start_time": "2023-02-05T09:26:01.114Z"
   },
   {
    "duration": 6,
    "start_time": "2023-02-05T09:26:19.655Z"
   },
   {
    "duration": 449,
    "start_time": "2023-02-05T09:27:19.981Z"
   },
   {
    "duration": 3,
    "start_time": "2023-02-05T09:27:32.355Z"
   },
   {
    "duration": 12,
    "start_time": "2023-02-05T09:27:34.448Z"
   },
   {
    "duration": 749,
    "start_time": "2023-02-05T09:28:02.697Z"
   },
   {
    "duration": 63,
    "start_time": "2023-02-05T09:28:21.584Z"
   },
   {
    "duration": 64,
    "start_time": "2023-02-05T09:28:28.080Z"
   },
   {
    "duration": 13,
    "start_time": "2023-02-05T09:28:36.145Z"
   },
   {
    "duration": 3,
    "start_time": "2023-02-05T09:28:52.598Z"
   },
   {
    "duration": 6,
    "start_time": "2023-02-05T09:29:26.748Z"
   },
   {
    "duration": 7,
    "start_time": "2023-02-05T09:29:31.695Z"
   },
   {
    "duration": 4,
    "start_time": "2023-02-05T09:29:44.546Z"
   },
   {
    "duration": 4,
    "start_time": "2023-02-05T09:31:25.346Z"
   },
   {
    "duration": 4,
    "start_time": "2023-02-05T09:32:31.612Z"
   },
   {
    "duration": 4,
    "start_time": "2023-02-05T09:32:33.798Z"
   },
   {
    "duration": 3,
    "start_time": "2023-02-05T09:37:01.569Z"
   },
   {
    "duration": 6,
    "start_time": "2023-02-05T09:37:12.475Z"
   },
   {
    "duration": 3,
    "start_time": "2023-02-05T09:38:01.152Z"
   },
   {
    "duration": 844,
    "start_time": "2023-02-05T09:38:01.521Z"
   },
   {
    "duration": 3,
    "start_time": "2023-02-05T09:38:13.631Z"
   },
   {
    "duration": 3,
    "start_time": "2023-02-05T09:38:14.441Z"
   },
   {
    "duration": 4,
    "start_time": "2023-02-05T09:38:21.716Z"
   },
   {
    "duration": 3,
    "start_time": "2023-02-05T09:38:30.031Z"
   },
   {
    "duration": 4,
    "start_time": "2023-02-05T09:38:31.593Z"
   },
   {
    "duration": 6,
    "start_time": "2023-02-05T09:38:33.455Z"
   },
   {
    "duration": 6,
    "start_time": "2023-02-05T09:38:35.720Z"
   },
   {
    "duration": 3,
    "start_time": "2023-02-05T09:38:41.804Z"
   },
   {
    "duration": 3,
    "start_time": "2023-02-05T09:38:46.555Z"
   },
   {
    "duration": 5,
    "start_time": "2023-02-05T09:40:08.378Z"
   },
   {
    "duration": 5,
    "start_time": "2023-02-05T09:41:47.095Z"
   },
   {
    "duration": 4,
    "start_time": "2023-02-05T09:41:49.499Z"
   },
   {
    "duration": 4,
    "start_time": "2023-02-05T09:41:49.778Z"
   },
   {
    "duration": 780,
    "start_time": "2023-02-05T09:43:16.324Z"
   },
   {
    "duration": 46,
    "start_time": "2023-02-05T09:43:21.569Z"
   },
   {
    "duration": 4,
    "start_time": "2023-02-05T09:43:37.009Z"
   },
   {
    "duration": 2,
    "start_time": "2023-02-05T09:44:02.104Z"
   },
   {
    "duration": 5,
    "start_time": "2023-02-05T09:44:17.508Z"
   },
   {
    "duration": 46,
    "start_time": "2023-02-05T09:44:53.497Z"
   },
   {
    "duration": 144,
    "start_time": "2023-02-05T09:45:41.604Z"
   },
   {
    "duration": 4,
    "start_time": "2023-02-05T09:45:49.801Z"
   },
   {
    "duration": 4,
    "start_time": "2023-02-05T09:45:53.807Z"
   },
   {
    "duration": 9129,
    "start_time": "2023-02-05T09:45:54.173Z"
   },
   {
    "duration": 8802,
    "start_time": "2023-02-05T09:46:28.984Z"
   },
   {
    "duration": 34,
    "start_time": "2023-02-05T09:47:16.919Z"
   },
   {
    "duration": 4,
    "start_time": "2023-02-05T09:47:36.707Z"
   },
   {
    "duration": 9562,
    "start_time": "2023-02-05T09:47:37.187Z"
   },
   {
    "duration": 8,
    "start_time": "2023-02-05T09:51:09.490Z"
   },
   {
    "duration": 50,
    "start_time": "2023-02-05T09:51:12.964Z"
   },
   {
    "duration": 584,
    "start_time": "2023-02-05T09:51:17.014Z"
   },
   {
    "duration": 627,
    "start_time": "2023-02-05T09:51:24.753Z"
   },
   {
    "duration": 548,
    "start_time": "2023-02-05T09:52:46.316Z"
   },
   {
    "duration": 51,
    "start_time": "2023-02-05T09:57:21.726Z"
   },
   {
    "duration": 15,
    "start_time": "2023-02-05T09:57:27.693Z"
   },
   {
    "duration": 1317,
    "start_time": "2023-02-08T02:45:15.176Z"
   },
   {
    "duration": 4,
    "start_time": "2023-02-08T02:45:16.495Z"
   },
   {
    "duration": 583,
    "start_time": "2023-02-08T02:45:16.501Z"
   },
   {
    "duration": 26,
    "start_time": "2023-02-08T02:45:17.085Z"
   },
   {
    "duration": 68,
    "start_time": "2023-02-08T02:45:17.113Z"
   },
   {
    "duration": 50,
    "start_time": "2023-02-08T02:45:17.183Z"
   },
   {
    "duration": 3,
    "start_time": "2023-02-08T02:45:17.235Z"
   },
   {
    "duration": 16,
    "start_time": "2023-02-08T02:45:17.239Z"
   },
   {
    "duration": 33,
    "start_time": "2023-02-08T02:45:17.256Z"
   },
   {
    "duration": 4,
    "start_time": "2023-02-08T02:45:17.290Z"
   },
   {
    "duration": 10890,
    "start_time": "2023-02-08T02:45:17.296Z"
   },
   {
    "duration": 1080,
    "start_time": "2023-02-08T02:46:23.092Z"
   },
   {
    "duration": 5,
    "start_time": "2023-02-08T02:46:24.174Z"
   },
   {
    "duration": 150,
    "start_time": "2023-02-08T02:46:24.181Z"
   },
   {
    "duration": 25,
    "start_time": "2023-02-08T02:46:24.332Z"
   },
   {
    "duration": 72,
    "start_time": "2023-02-08T02:46:24.359Z"
   },
   {
    "duration": 57,
    "start_time": "2023-02-08T02:46:24.433Z"
   },
   {
    "duration": 150,
    "start_time": "2023-02-08T02:46:24.492Z"
   },
   {
    "duration": 3,
    "start_time": "2023-02-08T02:46:24.644Z"
   },
   {
    "duration": 9,
    "start_time": "2023-02-08T02:46:24.649Z"
   },
   {
    "duration": 10,
    "start_time": "2023-02-08T02:46:24.659Z"
   },
   {
    "duration": 5,
    "start_time": "2023-02-08T02:46:24.680Z"
   },
   {
    "duration": 9031,
    "start_time": "2023-02-08T02:46:24.686Z"
   },
   {
    "duration": 19,
    "start_time": "2023-02-08T02:47:09.984Z"
   },
   {
    "duration": 90,
    "start_time": "2023-02-08T02:47:25.508Z"
   },
   {
    "duration": 4,
    "start_time": "2023-02-08T02:49:09.846Z"
   },
   {
    "duration": 8,
    "start_time": "2023-02-08T02:49:23.359Z"
   },
   {
    "duration": 5,
    "start_time": "2023-02-08T02:49:32.236Z"
   },
   {
    "duration": 6,
    "start_time": "2023-02-08T02:49:35.418Z"
   },
   {
    "duration": 57,
    "start_time": "2023-02-08T02:53:26.200Z"
   },
   {
    "duration": 3,
    "start_time": "2023-02-08T02:54:14.601Z"
   },
   {
    "duration": 29,
    "start_time": "2023-02-08T02:54:17.822Z"
   },
   {
    "duration": 441,
    "start_time": "2023-02-08T03:15:59.750Z"
   },
   {
    "duration": 3,
    "start_time": "2023-02-08T03:16:05.508Z"
   },
   {
    "duration": 37,
    "start_time": "2023-02-08T03:23:16.507Z"
   },
   {
    "duration": 20,
    "start_time": "2023-02-08T03:23:20.323Z"
   },
   {
    "duration": 34,
    "start_time": "2023-02-08T03:23:28.479Z"
   },
   {
    "duration": 34,
    "start_time": "2023-02-08T03:24:00.969Z"
   },
   {
    "duration": 64,
    "start_time": "2023-02-08T03:24:47.464Z"
   },
   {
    "duration": 39,
    "start_time": "2023-02-08T03:24:47.811Z"
   },
   {
    "duration": 46,
    "start_time": "2023-02-08T03:24:48.141Z"
   },
   {
    "duration": 33,
    "start_time": "2023-02-08T03:24:48.627Z"
   },
   {
    "duration": 91,
    "start_time": "2023-02-08T03:24:51.513Z"
   },
   {
    "duration": 21,
    "start_time": "2023-02-08T03:31:29.384Z"
   },
   {
    "duration": 4,
    "start_time": "2023-02-08T03:31:39.445Z"
   },
   {
    "duration": 5,
    "start_time": "2023-02-08T03:31:47.087Z"
   },
   {
    "duration": 8,
    "start_time": "2023-02-08T03:31:51.631Z"
   },
   {
    "duration": 9,
    "start_time": "2023-02-08T03:32:01.767Z"
   },
   {
    "duration": 71,
    "start_time": "2023-02-08T03:32:06.961Z"
   },
   {
    "duration": 9,
    "start_time": "2023-02-08T03:32:24.314Z"
   },
   {
    "duration": 5,
    "start_time": "2023-02-08T03:32:37.930Z"
   },
   {
    "duration": 3,
    "start_time": "2023-02-08T03:34:21.154Z"
   },
   {
    "duration": 6,
    "start_time": "2023-02-08T03:34:24.397Z"
   },
   {
    "duration": 4,
    "start_time": "2023-02-08T03:34:42.844Z"
   },
   {
    "duration": 5,
    "start_time": "2023-02-08T03:34:53.316Z"
   },
   {
    "duration": 81,
    "start_time": "2023-02-08T03:41:46.584Z"
   },
   {
    "duration": 4,
    "start_time": "2023-02-08T03:44:19.536Z"
   },
   {
    "duration": 4,
    "start_time": "2023-02-08T03:44:42.684Z"
   },
   {
    "duration": 856,
    "start_time": "2023-02-08T03:46:20.052Z"
   },
   {
    "duration": 7,
    "start_time": "2023-02-08T03:46:58.855Z"
   },
   {
    "duration": 847,
    "start_time": "2023-02-08T03:46:59.601Z"
   },
   {
    "duration": 6,
    "start_time": "2023-02-08T03:47:30.501Z"
   },
   {
    "duration": 19823,
    "start_time": "2023-02-08T03:47:32.150Z"
   },
   {
    "duration": 73,
    "start_time": "2023-02-08T03:49:32.825Z"
   },
   {
    "duration": 49,
    "start_time": "2023-02-08T03:49:40.224Z"
   },
   {
    "duration": 72,
    "start_time": "2023-02-08T03:50:00.045Z"
   },
   {
    "duration": 48,
    "start_time": "2023-02-08T03:51:10.918Z"
   },
   {
    "duration": 30,
    "start_time": "2023-02-08T03:51:26.038Z"
   },
   {
    "duration": 92,
    "start_time": "2023-02-08T03:51:37.226Z"
   },
   {
    "duration": 101,
    "start_time": "2023-02-08T03:53:36.408Z"
   },
   {
    "duration": 4,
    "start_time": "2023-02-08T03:53:57.881Z"
   },
   {
    "duration": 83,
    "start_time": "2023-02-08T03:54:01.387Z"
   },
   {
    "duration": 43,
    "start_time": "2023-02-08T03:56:24.918Z"
   },
   {
    "duration": 4622,
    "start_time": "2023-02-08T03:57:23.606Z"
   },
   {
    "duration": 4965,
    "start_time": "2023-02-08T04:01:54.301Z"
   },
   {
    "duration": 4558,
    "start_time": "2023-02-08T04:03:09.626Z"
   },
   {
    "duration": 0,
    "start_time": "2023-02-08T04:03:30.273Z"
   },
   {
    "duration": 4671,
    "start_time": "2023-02-08T04:03:34.806Z"
   },
   {
    "duration": 10,
    "start_time": "2023-02-08T04:04:28.708Z"
   },
   {
    "duration": 6,
    "start_time": "2023-02-08T04:04:53.587Z"
   },
   {
    "duration": 3,
    "start_time": "2023-02-08T04:06:55.277Z"
   },
   {
    "duration": 45,
    "start_time": "2023-02-08T04:06:58.942Z"
   },
   {
    "duration": 7,
    "start_time": "2023-02-08T04:07:00.981Z"
   },
   {
    "duration": 10,
    "start_time": "2023-02-08T04:07:33.398Z"
   },
   {
    "duration": 6,
    "start_time": "2023-02-08T04:07:57.329Z"
   },
   {
    "duration": 9,
    "start_time": "2023-02-08T04:08:02.278Z"
   },
   {
    "duration": 7,
    "start_time": "2023-02-08T04:08:33.039Z"
   },
   {
    "duration": 84,
    "start_time": "2023-02-08T07:11:18.921Z"
   },
   {
    "duration": 1459,
    "start_time": "2023-02-08T07:11:26.024Z"
   },
   {
    "duration": 8,
    "start_time": "2023-02-08T07:11:27.487Z"
   },
   {
    "duration": 416,
    "start_time": "2023-02-08T07:11:27.499Z"
   },
   {
    "duration": 88,
    "start_time": "2023-02-08T07:11:27.916Z"
   },
   {
    "duration": 0,
    "start_time": "2023-02-08T07:11:28.007Z"
   },
   {
    "duration": 0,
    "start_time": "2023-02-08T07:11:28.009Z"
   },
   {
    "duration": 0,
    "start_time": "2023-02-08T07:11:28.010Z"
   },
   {
    "duration": 0,
    "start_time": "2023-02-08T07:11:28.011Z"
   },
   {
    "duration": 1,
    "start_time": "2023-02-08T07:11:28.012Z"
   },
   {
    "duration": 0,
    "start_time": "2023-02-08T07:11:28.014Z"
   },
   {
    "duration": 0,
    "start_time": "2023-02-08T07:11:28.015Z"
   },
   {
    "duration": 0,
    "start_time": "2023-02-08T07:11:28.016Z"
   },
   {
    "duration": 0,
    "start_time": "2023-02-08T07:11:28.017Z"
   },
   {
    "duration": 0,
    "start_time": "2023-02-08T07:11:28.018Z"
   },
   {
    "duration": 0,
    "start_time": "2023-02-08T07:11:28.019Z"
   },
   {
    "duration": 0,
    "start_time": "2023-02-08T07:11:28.021Z"
   },
   {
    "duration": 0,
    "start_time": "2023-02-08T07:11:28.022Z"
   },
   {
    "duration": 0,
    "start_time": "2023-02-08T07:11:28.023Z"
   },
   {
    "duration": 0,
    "start_time": "2023-02-08T07:11:28.024Z"
   },
   {
    "duration": 0,
    "start_time": "2023-02-08T07:11:28.025Z"
   },
   {
    "duration": 0,
    "start_time": "2023-02-08T07:11:28.027Z"
   },
   {
    "duration": 0,
    "start_time": "2023-02-08T07:11:28.028Z"
   },
   {
    "duration": 1,
    "start_time": "2023-02-08T07:11:28.029Z"
   },
   {
    "duration": 0,
    "start_time": "2023-02-08T07:11:28.031Z"
   },
   {
    "duration": 0,
    "start_time": "2023-02-08T07:11:28.032Z"
   },
   {
    "duration": 5,
    "start_time": "2023-02-08T07:11:44.214Z"
   },
   {
    "duration": 1218,
    "start_time": "2023-02-08T07:11:51.722Z"
   },
   {
    "duration": 19,
    "start_time": "2023-02-08T07:11:52.943Z"
   },
   {
    "duration": 296,
    "start_time": "2023-02-08T07:11:52.964Z"
   },
   {
    "duration": 7,
    "start_time": "2023-02-08T07:11:53.265Z"
   },
   {
    "duration": 274,
    "start_time": "2023-02-08T07:11:53.277Z"
   },
   {
    "duration": 41,
    "start_time": "2023-02-08T07:11:53.553Z"
   },
   {
    "duration": 81,
    "start_time": "2023-02-08T07:11:53.596Z"
   },
   {
    "duration": 90,
    "start_time": "2023-02-08T07:11:53.678Z"
   },
   {
    "duration": 174,
    "start_time": "2023-02-08T07:11:53.771Z"
   },
   {
    "duration": 14,
    "start_time": "2023-02-08T07:11:53.947Z"
   },
   {
    "duration": 26,
    "start_time": "2023-02-08T07:11:53.968Z"
   },
   {
    "duration": 14,
    "start_time": "2023-02-08T07:11:53.996Z"
   },
   {
    "duration": 4,
    "start_time": "2023-02-08T07:11:54.011Z"
   },
   {
    "duration": 24,
    "start_time": "2023-02-08T07:11:54.018Z"
   },
   {
    "duration": 30,
    "start_time": "2023-02-08T07:11:54.043Z"
   },
   {
    "duration": 63,
    "start_time": "2023-02-08T07:11:54.076Z"
   },
   {
    "duration": 45,
    "start_time": "2023-02-08T07:11:54.142Z"
   },
   {
    "duration": 42,
    "start_time": "2023-02-08T07:11:54.189Z"
   },
   {
    "duration": 57,
    "start_time": "2023-02-08T07:11:54.232Z"
   },
   {
    "duration": 5226,
    "start_time": "2023-02-08T07:11:54.291Z"
   },
   {
    "duration": 8,
    "start_time": "2023-02-08T07:11:59.519Z"
   },
   {
    "duration": 7,
    "start_time": "2023-02-08T07:11:59.529Z"
   },
   {
    "duration": 1490,
    "start_time": "2023-02-08T07:11:59.538Z"
   },
   {
    "duration": 0,
    "start_time": "2023-02-08T07:12:01.030Z"
   },
   {
    "duration": 0,
    "start_time": "2023-02-08T07:12:01.032Z"
   },
   {
    "duration": 4,
    "start_time": "2023-02-08T07:13:24.283Z"
   },
   {
    "duration": 6,
    "start_time": "2023-02-08T07:13:26.196Z"
   },
   {
    "duration": 22752,
    "start_time": "2023-02-08T07:13:26.972Z"
   },
   {
    "duration": 108,
    "start_time": "2023-02-08T07:13:50.078Z"
   },
   {
    "duration": 56,
    "start_time": "2023-02-08T07:13:52.870Z"
   },
   {
    "duration": 57,
    "start_time": "2023-02-08T07:14:20.034Z"
   },
   {
    "duration": 87,
    "start_time": "2023-02-08T07:16:26.358Z"
   },
   {
    "duration": 0,
    "start_time": "2023-02-08T07:17:45.804Z"
   },
   {
    "duration": 14,
    "start_time": "2023-02-08T07:17:48.494Z"
   },
   {
    "duration": 27,
    "start_time": "2023-02-08T07:18:13.544Z"
   },
   {
    "duration": 7,
    "start_time": "2023-02-08T07:18:42.780Z"
   },
   {
    "duration": 0,
    "start_time": "2023-02-08T07:22:25.494Z"
   },
   {
    "duration": 0,
    "start_time": "2023-02-08T07:22:25.501Z"
   },
   {
    "duration": 12,
    "start_time": "2023-02-08T07:22:29.907Z"
   },
   {
    "duration": 5,
    "start_time": "2023-02-08T07:22:38.323Z"
   },
   {
    "duration": 5,
    "start_time": "2023-02-08T07:29:33.309Z"
   },
   {
    "duration": 15,
    "start_time": "2023-02-08T07:30:26.510Z"
   },
   {
    "duration": 7,
    "start_time": "2023-02-08T07:30:30.410Z"
   },
   {
    "duration": 10,
    "start_time": "2023-02-08T07:30:32.746Z"
   },
   {
    "duration": 7,
    "start_time": "2023-02-08T07:30:38.041Z"
   },
   {
    "duration": 29,
    "start_time": "2023-02-08T07:32:02.606Z"
   },
   {
    "duration": 1279,
    "start_time": "2023-02-08T21:14:22.370Z"
   },
   {
    "duration": 4,
    "start_time": "2023-02-08T21:14:23.651Z"
   },
   {
    "duration": 403,
    "start_time": "2023-02-08T21:14:23.657Z"
   },
   {
    "duration": 5,
    "start_time": "2023-02-08T21:14:24.063Z"
   },
   {
    "duration": 335,
    "start_time": "2023-02-08T21:14:24.070Z"
   },
   {
    "duration": 28,
    "start_time": "2023-02-08T21:14:24.407Z"
   },
   {
    "duration": 62,
    "start_time": "2023-02-08T21:14:24.437Z"
   },
   {
    "duration": 57,
    "start_time": "2023-02-08T21:14:24.500Z"
   },
   {
    "duration": 160,
    "start_time": "2023-02-08T21:14:24.559Z"
   },
   {
    "duration": 5,
    "start_time": "2023-02-08T21:14:24.721Z"
   },
   {
    "duration": 10,
    "start_time": "2023-02-08T21:14:24.727Z"
   },
   {
    "duration": 7,
    "start_time": "2023-02-08T21:14:24.738Z"
   },
   {
    "duration": 26,
    "start_time": "2023-02-08T21:14:24.746Z"
   },
   {
    "duration": 41,
    "start_time": "2023-02-08T21:14:24.773Z"
   },
   {
    "duration": 55,
    "start_time": "2023-02-08T21:14:24.816Z"
   },
   {
    "duration": 58,
    "start_time": "2023-02-08T21:14:24.872Z"
   },
   {
    "duration": 37,
    "start_time": "2023-02-08T21:14:24.931Z"
   },
   {
    "duration": 60,
    "start_time": "2023-02-08T21:14:24.970Z"
   },
   {
    "duration": 4,
    "start_time": "2023-02-08T21:14:25.032Z"
   },
   {
    "duration": 4485,
    "start_time": "2023-02-08T21:14:25.038Z"
   },
   {
    "duration": 6,
    "start_time": "2023-02-08T21:14:29.524Z"
   },
   {
    "duration": 6,
    "start_time": "2023-02-08T21:14:29.531Z"
   },
   {
    "duration": 18327,
    "start_time": "2023-02-08T21:14:29.538Z"
   },
   {
    "duration": 94,
    "start_time": "2023-02-08T21:14:47.867Z"
   },
   {
    "duration": 18,
    "start_time": "2023-02-08T21:14:47.962Z"
   },
   {
    "duration": 12,
    "start_time": "2023-02-08T21:14:47.981Z"
   },
   {
    "duration": 7,
    "start_time": "2023-02-08T21:14:47.995Z"
   },
   {
    "duration": 16,
    "start_time": "2023-02-08T21:14:48.005Z"
   },
   {
    "duration": 2087,
    "start_time": "2023-02-08T21:14:48.022Z"
   },
   {
    "duration": 569,
    "start_time": "2023-02-08T21:14:50.111Z"
   },
   {
    "duration": 106,
    "start_time": "2023-02-08T21:14:50.682Z"
   },
   {
    "duration": 729,
    "start_time": "2023-02-08T21:14:50.790Z"
   },
   {
    "duration": 4,
    "start_time": "2023-02-08T21:14:51.520Z"
   },
   {
    "duration": 14,
    "start_time": "2023-02-08T21:14:51.525Z"
   },
   {
    "duration": 7,
    "start_time": "2023-02-08T21:14:51.541Z"
   },
   {
    "duration": 8,
    "start_time": "2023-02-08T21:14:51.549Z"
   },
   {
    "duration": 8,
    "start_time": "2023-02-08T21:14:51.559Z"
   },
   {
    "duration": 7,
    "start_time": "2023-02-08T21:14:51.568Z"
   },
   {
    "duration": 1545,
    "start_time": "2023-02-09T13:59:40.166Z"
   },
   {
    "duration": 3,
    "start_time": "2023-02-09T13:59:41.713Z"
   },
   {
    "duration": 7,
    "start_time": "2023-02-09T13:59:41.718Z"
   },
   {
    "duration": 9,
    "start_time": "2023-02-09T13:59:41.726Z"
   },
   {
    "duration": 585,
    "start_time": "2023-02-09T13:59:41.736Z"
   },
   {
    "duration": 29,
    "start_time": "2023-02-09T13:59:42.323Z"
   },
   {
    "duration": 61,
    "start_time": "2023-02-09T13:59:42.353Z"
   },
   {
    "duration": 53,
    "start_time": "2023-02-09T13:59:42.416Z"
   },
   {
    "duration": 171,
    "start_time": "2023-02-09T13:59:42.470Z"
   },
   {
    "duration": 4,
    "start_time": "2023-02-09T13:59:42.643Z"
   },
   {
    "duration": 9,
    "start_time": "2023-02-09T13:59:42.649Z"
   },
   {
    "duration": 7,
    "start_time": "2023-02-09T13:59:42.659Z"
   },
   {
    "duration": 39,
    "start_time": "2023-02-09T13:59:42.667Z"
   },
   {
    "duration": 6,
    "start_time": "2023-02-09T13:59:42.708Z"
   },
   {
    "duration": 8,
    "start_time": "2023-02-09T13:59:42.715Z"
   },
   {
    "duration": 11,
    "start_time": "2023-02-09T13:59:42.725Z"
   },
   {
    "duration": 9,
    "start_time": "2023-02-09T13:59:42.737Z"
   },
   {
    "duration": 323,
    "start_time": "2023-02-09T13:59:42.747Z"
   },
   {
    "duration": 140,
    "start_time": "2023-02-09T13:59:43.072Z"
   },
   {
    "duration": 158,
    "start_time": "2023-02-09T13:59:43.214Z"
   },
   {
    "duration": 287,
    "start_time": "2023-02-09T13:59:43.374Z"
   },
   {
    "duration": 143,
    "start_time": "2023-02-09T13:59:43.663Z"
   },
   {
    "duration": 23,
    "start_time": "2023-02-09T13:59:43.808Z"
   },
   {
    "duration": 29,
    "start_time": "2023-02-09T13:59:43.832Z"
   },
   {
    "duration": 102,
    "start_time": "2023-02-09T13:59:43.863Z"
   },
   {
    "duration": 39,
    "start_time": "2023-02-09T13:59:43.967Z"
   },
   {
    "duration": 45,
    "start_time": "2023-02-09T13:59:44.008Z"
   },
   {
    "duration": 54,
    "start_time": "2023-02-09T13:59:44.057Z"
   },
   {
    "duration": 3,
    "start_time": "2023-02-09T13:59:44.113Z"
   },
   {
    "duration": 4757,
    "start_time": "2023-02-09T13:59:44.118Z"
   },
   {
    "duration": 7,
    "start_time": "2023-02-09T13:59:48.877Z"
   },
   {
    "duration": 20,
    "start_time": "2023-02-09T13:59:48.885Z"
   },
   {
    "duration": 89,
    "start_time": "2023-02-09T13:59:48.906Z"
   },
   {
    "duration": 15,
    "start_time": "2023-02-09T13:59:48.997Z"
   },
   {
    "duration": 9,
    "start_time": "2023-02-09T13:59:49.013Z"
   },
   {
    "duration": 6,
    "start_time": "2023-02-09T13:59:49.023Z"
   },
   {
    "duration": 27,
    "start_time": "2023-02-09T13:59:49.031Z"
   },
   {
    "duration": 195,
    "start_time": "2023-02-09T13:59:49.059Z"
   },
   {
    "duration": 0,
    "start_time": "2023-02-09T13:59:49.256Z"
   },
   {
    "duration": 0,
    "start_time": "2023-02-09T13:59:49.258Z"
   },
   {
    "duration": 0,
    "start_time": "2023-02-09T13:59:49.259Z"
   },
   {
    "duration": 0,
    "start_time": "2023-02-09T13:59:49.260Z"
   },
   {
    "duration": 0,
    "start_time": "2023-02-09T13:59:49.262Z"
   },
   {
    "duration": 0,
    "start_time": "2023-02-09T13:59:49.264Z"
   },
   {
    "duration": 0,
    "start_time": "2023-02-09T13:59:49.265Z"
   },
   {
    "duration": 0,
    "start_time": "2023-02-09T13:59:49.267Z"
   },
   {
    "duration": 0,
    "start_time": "2023-02-09T13:59:49.268Z"
   },
   {
    "duration": 0,
    "start_time": "2023-02-09T13:59:49.269Z"
   },
   {
    "duration": 12,
    "start_time": "2023-02-09T14:04:19.381Z"
   },
   {
    "duration": 1639,
    "start_time": "2023-02-09T14:04:40.175Z"
   },
   {
    "duration": 3,
    "start_time": "2023-02-09T14:04:41.817Z"
   },
   {
    "duration": 19,
    "start_time": "2023-02-09T14:04:41.822Z"
   },
   {
    "duration": 9,
    "start_time": "2023-02-09T14:04:41.844Z"
   },
   {
    "duration": 166,
    "start_time": "2023-02-09T14:04:41.855Z"
   },
   {
    "duration": 32,
    "start_time": "2023-02-09T14:04:42.023Z"
   },
   {
    "duration": 79,
    "start_time": "2023-02-09T14:04:42.057Z"
   },
   {
    "duration": 54,
    "start_time": "2023-02-09T14:04:42.138Z"
   },
   {
    "duration": 168,
    "start_time": "2023-02-09T14:04:42.204Z"
   },
   {
    "duration": 4,
    "start_time": "2023-02-09T14:04:42.374Z"
   },
   {
    "duration": 10,
    "start_time": "2023-02-09T14:04:42.380Z"
   },
   {
    "duration": 19,
    "start_time": "2023-02-09T14:04:42.391Z"
   },
   {
    "duration": 23,
    "start_time": "2023-02-09T14:04:42.411Z"
   },
   {
    "duration": 6,
    "start_time": "2023-02-09T14:04:42.436Z"
   },
   {
    "duration": 7,
    "start_time": "2023-02-09T14:04:42.444Z"
   },
   {
    "duration": 9,
    "start_time": "2023-02-09T14:04:42.453Z"
   },
   {
    "duration": 10,
    "start_time": "2023-02-09T14:04:42.464Z"
   },
   {
    "duration": 5,
    "start_time": "2023-02-09T14:04:42.504Z"
   },
   {
    "duration": 325,
    "start_time": "2023-02-09T14:04:42.511Z"
   },
   {
    "duration": 142,
    "start_time": "2023-02-09T14:04:42.837Z"
   },
   {
    "duration": 154,
    "start_time": "2023-02-09T14:04:42.980Z"
   },
   {
    "duration": 254,
    "start_time": "2023-02-09T14:04:43.136Z"
   },
   {
    "duration": 150,
    "start_time": "2023-02-09T14:04:43.392Z"
   },
   {
    "duration": 23,
    "start_time": "2023-02-09T14:04:43.544Z"
   },
   {
    "duration": 45,
    "start_time": "2023-02-09T14:04:43.569Z"
   },
   {
    "duration": 59,
    "start_time": "2023-02-09T14:04:43.615Z"
   },
   {
    "duration": 54,
    "start_time": "2023-02-09T14:04:43.676Z"
   },
   {
    "duration": 43,
    "start_time": "2023-02-09T14:04:43.734Z"
   },
   {
    "duration": 46,
    "start_time": "2023-02-09T14:04:43.778Z"
   },
   {
    "duration": 4,
    "start_time": "2023-02-09T14:04:43.825Z"
   },
   {
    "duration": 4837,
    "start_time": "2023-02-09T14:04:43.830Z"
   },
   {
    "duration": 6,
    "start_time": "2023-02-09T14:04:48.669Z"
   },
   {
    "duration": 7,
    "start_time": "2023-02-09T14:04:48.677Z"
   },
   {
    "duration": 98,
    "start_time": "2023-02-09T14:04:48.686Z"
   },
   {
    "duration": 20,
    "start_time": "2023-02-09T14:04:48.786Z"
   },
   {
    "duration": 3,
    "start_time": "2023-02-09T14:04:48.808Z"
   },
   {
    "duration": 7,
    "start_time": "2023-02-09T14:04:48.812Z"
   },
   {
    "duration": 9,
    "start_time": "2023-02-09T14:04:48.821Z"
   },
   {
    "duration": 208,
    "start_time": "2023-02-09T14:04:48.832Z"
   },
   {
    "duration": 0,
    "start_time": "2023-02-09T14:04:49.042Z"
   },
   {
    "duration": 0,
    "start_time": "2023-02-09T14:04:49.043Z"
   },
   {
    "duration": 0,
    "start_time": "2023-02-09T14:04:49.044Z"
   },
   {
    "duration": 0,
    "start_time": "2023-02-09T14:04:49.045Z"
   },
   {
    "duration": 0,
    "start_time": "2023-02-09T14:04:49.046Z"
   },
   {
    "duration": 0,
    "start_time": "2023-02-09T14:04:49.047Z"
   },
   {
    "duration": 0,
    "start_time": "2023-02-09T14:04:49.048Z"
   },
   {
    "duration": 0,
    "start_time": "2023-02-09T14:04:49.049Z"
   },
   {
    "duration": 0,
    "start_time": "2023-02-09T14:04:49.050Z"
   },
   {
    "duration": 0,
    "start_time": "2023-02-09T14:04:49.052Z"
   },
   {
    "duration": 16,
    "start_time": "2023-02-09T14:05:46.317Z"
   },
   {
    "duration": 1594,
    "start_time": "2023-02-09T14:05:53.395Z"
   },
   {
    "duration": 2,
    "start_time": "2023-02-09T14:05:54.991Z"
   },
   {
    "duration": 23,
    "start_time": "2023-02-09T14:05:54.995Z"
   },
   {
    "duration": 32,
    "start_time": "2023-02-09T14:05:55.022Z"
   },
   {
    "duration": 251,
    "start_time": "2023-02-09T14:05:55.056Z"
   },
   {
    "duration": 32,
    "start_time": "2023-02-09T14:05:55.309Z"
   },
   {
    "duration": 81,
    "start_time": "2023-02-09T14:05:55.343Z"
   },
   {
    "duration": 54,
    "start_time": "2023-02-09T14:05:55.425Z"
   },
   {
    "duration": 176,
    "start_time": "2023-02-09T14:05:55.481Z"
   },
   {
    "duration": 3,
    "start_time": "2023-02-09T14:05:55.660Z"
   },
   {
    "duration": 9,
    "start_time": "2023-02-09T14:05:55.665Z"
   },
   {
    "duration": 8,
    "start_time": "2023-02-09T14:05:55.676Z"
   },
   {
    "duration": 43,
    "start_time": "2023-02-09T14:05:55.686Z"
   },
   {
    "duration": 11,
    "start_time": "2023-02-09T14:05:55.731Z"
   },
   {
    "duration": 9,
    "start_time": "2023-02-09T14:05:55.744Z"
   },
   {
    "duration": 6,
    "start_time": "2023-02-09T14:05:55.754Z"
   },
   {
    "duration": 8,
    "start_time": "2023-02-09T14:05:55.761Z"
   },
   {
    "duration": 39,
    "start_time": "2023-02-09T14:05:55.771Z"
   },
   {
    "duration": 9,
    "start_time": "2023-02-09T14:05:55.812Z"
   },
   {
    "duration": 330,
    "start_time": "2023-02-09T14:05:55.823Z"
   },
   {
    "duration": 161,
    "start_time": "2023-02-09T14:05:56.155Z"
   },
   {
    "duration": 160,
    "start_time": "2023-02-09T14:05:56.318Z"
   },
   {
    "duration": 275,
    "start_time": "2023-02-09T14:05:56.479Z"
   },
   {
    "duration": 172,
    "start_time": "2023-02-09T14:05:56.756Z"
   },
   {
    "duration": 28,
    "start_time": "2023-02-09T14:05:56.930Z"
   },
   {
    "duration": 52,
    "start_time": "2023-02-09T14:05:56.960Z"
   },
   {
    "duration": 74,
    "start_time": "2023-02-09T14:05:57.015Z"
   },
   {
    "duration": 57,
    "start_time": "2023-02-09T14:05:57.093Z"
   },
   {
    "duration": 54,
    "start_time": "2023-02-09T14:05:57.152Z"
   },
   {
    "duration": 38,
    "start_time": "2023-02-09T14:05:57.208Z"
   },
   {
    "duration": 3,
    "start_time": "2023-02-09T14:05:57.248Z"
   },
   {
    "duration": 4788,
    "start_time": "2023-02-09T14:05:57.252Z"
   },
   {
    "duration": 6,
    "start_time": "2023-02-09T14:06:02.042Z"
   },
   {
    "duration": 24,
    "start_time": "2023-02-09T14:06:02.050Z"
   },
   {
    "duration": 92,
    "start_time": "2023-02-09T14:06:02.076Z"
   },
   {
    "duration": 17,
    "start_time": "2023-02-09T14:06:02.170Z"
   },
   {
    "duration": 18,
    "start_time": "2023-02-09T14:06:02.189Z"
   },
   {
    "duration": 21,
    "start_time": "2023-02-09T14:06:02.208Z"
   },
   {
    "duration": 23,
    "start_time": "2023-02-09T14:06:02.231Z"
   },
   {
    "duration": 205,
    "start_time": "2023-02-09T14:06:02.256Z"
   },
   {
    "duration": 0,
    "start_time": "2023-02-09T14:06:02.463Z"
   },
   {
    "duration": 0,
    "start_time": "2023-02-09T14:06:02.464Z"
   },
   {
    "duration": 0,
    "start_time": "2023-02-09T14:06:02.466Z"
   },
   {
    "duration": 0,
    "start_time": "2023-02-09T14:06:02.466Z"
   },
   {
    "duration": 0,
    "start_time": "2023-02-09T14:06:02.467Z"
   },
   {
    "duration": 0,
    "start_time": "2023-02-09T14:06:02.468Z"
   },
   {
    "duration": 0,
    "start_time": "2023-02-09T14:06:02.468Z"
   },
   {
    "duration": 0,
    "start_time": "2023-02-09T14:06:02.469Z"
   },
   {
    "duration": 0,
    "start_time": "2023-02-09T14:06:02.470Z"
   },
   {
    "duration": 0,
    "start_time": "2023-02-09T14:06:02.470Z"
   },
   {
    "duration": 58,
    "start_time": "2023-02-09T14:43:36.681Z"
   },
   {
    "duration": 51,
    "start_time": "2023-02-09T23:44:13.522Z"
   },
   {
    "duration": 7,
    "start_time": "2023-02-09T23:44:26.778Z"
   },
   {
    "duration": 1572,
    "start_time": "2023-02-09T23:44:34.124Z"
   },
   {
    "duration": 2,
    "start_time": "2023-02-09T23:44:35.699Z"
   },
   {
    "duration": 20,
    "start_time": "2023-02-09T23:44:35.703Z"
   },
   {
    "duration": 104,
    "start_time": "2023-02-09T23:44:35.724Z"
   },
   {
    "duration": 586,
    "start_time": "2023-02-09T23:44:35.831Z"
   },
   {
    "duration": 32,
    "start_time": "2023-02-09T23:44:36.419Z"
   },
   {
    "duration": 61,
    "start_time": "2023-02-09T23:44:36.453Z"
   },
   {
    "duration": 67,
    "start_time": "2023-02-09T23:44:36.516Z"
   },
   {
    "duration": 177,
    "start_time": "2023-02-09T23:44:36.585Z"
   },
   {
    "duration": 4,
    "start_time": "2023-02-09T23:44:36.764Z"
   },
   {
    "duration": 25,
    "start_time": "2023-02-09T23:44:36.770Z"
   },
   {
    "duration": 25,
    "start_time": "2023-02-09T23:44:36.796Z"
   },
   {
    "duration": 32,
    "start_time": "2023-02-09T23:44:36.823Z"
   },
   {
    "duration": 18,
    "start_time": "2023-02-09T23:44:36.859Z"
   },
   {
    "duration": 24,
    "start_time": "2023-02-09T23:44:36.879Z"
   },
   {
    "duration": 37,
    "start_time": "2023-02-09T23:44:36.905Z"
   },
   {
    "duration": 15,
    "start_time": "2023-02-09T23:44:36.944Z"
   },
   {
    "duration": 36,
    "start_time": "2023-02-09T23:44:36.960Z"
   },
   {
    "duration": 20,
    "start_time": "2023-02-09T23:44:36.998Z"
   },
   {
    "duration": 7,
    "start_time": "2023-02-09T23:44:38.929Z"
   },
   {
    "duration": 19,
    "start_time": "2023-02-09T23:46:22.372Z"
   },
   {
    "duration": 7,
    "start_time": "2023-02-09T23:46:24.276Z"
   },
   {
    "duration": 430,
    "start_time": "2023-02-09T23:46:50.593Z"
   },
   {
    "duration": 10,
    "start_time": "2023-02-09T23:47:03.820Z"
   },
   {
    "duration": 16,
    "start_time": "2023-02-09T23:49:18.191Z"
   },
   {
    "duration": 141,
    "start_time": "2023-02-09T23:49:40.572Z"
   },
   {
    "duration": 1475,
    "start_time": "2023-02-09T23:51:18.899Z"
   },
   {
    "duration": 3,
    "start_time": "2023-02-09T23:51:20.377Z"
   },
   {
    "duration": 19,
    "start_time": "2023-02-09T23:51:20.381Z"
   },
   {
    "duration": 20,
    "start_time": "2023-02-09T23:51:20.403Z"
   },
   {
    "duration": 149,
    "start_time": "2023-02-09T23:51:20.424Z"
   },
   {
    "duration": 27,
    "start_time": "2023-02-09T23:51:20.575Z"
   },
   {
    "duration": 73,
    "start_time": "2023-02-09T23:51:20.604Z"
   },
   {
    "duration": 72,
    "start_time": "2023-02-09T23:51:20.679Z"
   },
   {
    "duration": 170,
    "start_time": "2023-02-09T23:51:20.752Z"
   },
   {
    "duration": 4,
    "start_time": "2023-02-09T23:51:20.925Z"
   },
   {
    "duration": 7,
    "start_time": "2023-02-09T23:51:20.937Z"
   },
   {
    "duration": 12,
    "start_time": "2023-02-09T23:51:20.945Z"
   },
   {
    "duration": 19,
    "start_time": "2023-02-09T23:51:20.958Z"
   },
   {
    "duration": 6,
    "start_time": "2023-02-09T23:51:20.979Z"
   },
   {
    "duration": 7,
    "start_time": "2023-02-09T23:51:20.987Z"
   },
   {
    "duration": 11,
    "start_time": "2023-02-09T23:51:20.995Z"
   },
   {
    "duration": 34,
    "start_time": "2023-02-09T23:51:21.007Z"
   },
   {
    "duration": 11,
    "start_time": "2023-02-09T23:51:21.043Z"
   },
   {
    "duration": 7,
    "start_time": "2023-02-09T23:51:21.055Z"
   },
   {
    "duration": 8,
    "start_time": "2023-02-09T23:51:21.063Z"
   },
   {
    "duration": 20,
    "start_time": "2023-02-09T23:51:21.072Z"
   },
   {
    "duration": 6,
    "start_time": "2023-02-09T23:51:21.094Z"
   },
   {
    "duration": 54,
    "start_time": "2023-02-09T23:51:21.102Z"
   },
   {
    "duration": 373,
    "start_time": "2023-02-09T23:51:21.158Z"
   },
   {
    "duration": 137,
    "start_time": "2023-02-09T23:51:21.533Z"
   },
   {
    "duration": 165,
    "start_time": "2023-02-09T23:51:21.671Z"
   },
   {
    "duration": 263,
    "start_time": "2023-02-09T23:51:21.838Z"
   },
   {
    "duration": 136,
    "start_time": "2023-02-09T23:51:22.105Z"
   },
   {
    "duration": 24,
    "start_time": "2023-02-09T23:51:22.243Z"
   },
   {
    "duration": 62,
    "start_time": "2023-02-09T23:51:22.268Z"
   },
   {
    "duration": 70,
    "start_time": "2023-02-09T23:51:22.331Z"
   },
   {
    "duration": 42,
    "start_time": "2023-02-09T23:51:22.403Z"
   },
   {
    "duration": 45,
    "start_time": "2023-02-09T23:51:22.447Z"
   },
   {
    "duration": 50,
    "start_time": "2023-02-09T23:51:22.494Z"
   },
   {
    "duration": 13,
    "start_time": "2023-02-09T23:51:22.546Z"
   },
   {
    "duration": 4986,
    "start_time": "2023-02-09T23:51:22.561Z"
   },
   {
    "duration": 7,
    "start_time": "2023-02-09T23:51:27.549Z"
   },
   {
    "duration": 38,
    "start_time": "2023-02-09T23:51:27.557Z"
   },
   {
    "duration": 124,
    "start_time": "2023-02-09T23:51:27.597Z"
   },
   {
    "duration": 29,
    "start_time": "2023-02-09T23:51:27.723Z"
   },
   {
    "duration": 7,
    "start_time": "2023-02-09T23:51:27.753Z"
   },
   {
    "duration": 25,
    "start_time": "2023-02-09T23:51:27.762Z"
   },
   {
    "duration": 33,
    "start_time": "2023-02-09T23:51:27.789Z"
   },
   {
    "duration": 226,
    "start_time": "2023-02-09T23:51:27.823Z"
   },
   {
    "duration": 0,
    "start_time": "2023-02-09T23:51:28.051Z"
   },
   {
    "duration": 0,
    "start_time": "2023-02-09T23:51:28.053Z"
   },
   {
    "duration": 0,
    "start_time": "2023-02-09T23:51:28.054Z"
   },
   {
    "duration": 0,
    "start_time": "2023-02-09T23:51:28.055Z"
   },
   {
    "duration": 0,
    "start_time": "2023-02-09T23:51:28.057Z"
   },
   {
    "duration": 0,
    "start_time": "2023-02-09T23:51:28.058Z"
   },
   {
    "duration": 0,
    "start_time": "2023-02-09T23:51:28.060Z"
   },
   {
    "duration": 0,
    "start_time": "2023-02-09T23:51:28.061Z"
   },
   {
    "duration": 0,
    "start_time": "2023-02-09T23:51:28.063Z"
   },
   {
    "duration": 0,
    "start_time": "2023-02-09T23:51:28.064Z"
   },
   {
    "duration": 1556,
    "start_time": "2023-02-09T23:55:50.540Z"
   },
   {
    "duration": 4488,
    "start_time": "2023-02-09T23:56:05.754Z"
   },
   {
    "duration": 244,
    "start_time": "2023-02-09T23:56:33.172Z"
   },
   {
    "duration": 113,
    "start_time": "2023-02-09T23:56:35.476Z"
   },
   {
    "duration": 873,
    "start_time": "2023-02-09T23:56:35.892Z"
   },
   {
    "duration": 6,
    "start_time": "2023-02-09T23:56:56.930Z"
   },
   {
    "duration": 3449,
    "start_time": "2023-02-09T23:57:00.111Z"
   },
   {
    "duration": 4062,
    "start_time": "2023-02-09T23:57:03.562Z"
   },
   {
    "duration": 11,
    "start_time": "2023-02-09T23:57:07.625Z"
   },
   {
    "duration": 191,
    "start_time": "2023-02-09T23:57:36.298Z"
   },
   {
    "duration": 108,
    "start_time": "2023-02-09T23:57:36.670Z"
   },
   {
    "duration": 240,
    "start_time": "2023-02-09T23:57:36.973Z"
   },
   {
    "duration": 58,
    "start_time": "2023-02-09T23:58:16.271Z"
   },
   {
    "duration": 94,
    "start_time": "2023-02-09T23:59:05.573Z"
   },
   {
    "duration": 230,
    "start_time": "2023-02-09T23:59:06.789Z"
   },
   {
    "duration": 106,
    "start_time": "2023-02-09T23:59:17.373Z"
   },
   {
    "duration": 269,
    "start_time": "2023-02-09T23:59:18.077Z"
   },
   {
    "duration": 1435,
    "start_time": "2023-02-10T00:01:40.330Z"
   },
   {
    "duration": 3,
    "start_time": "2023-02-10T00:01:41.767Z"
   },
   {
    "duration": 10,
    "start_time": "2023-02-10T00:01:41.772Z"
   },
   {
    "duration": 13,
    "start_time": "2023-02-10T00:01:41.784Z"
   },
   {
    "duration": 155,
    "start_time": "2023-02-10T00:01:41.799Z"
   },
   {
    "duration": 28,
    "start_time": "2023-02-10T00:01:41.957Z"
   },
   {
    "duration": 84,
    "start_time": "2023-02-10T00:01:41.987Z"
   },
   {
    "duration": 74,
    "start_time": "2023-02-10T00:01:42.073Z"
   },
   {
    "duration": 190,
    "start_time": "2023-02-10T00:01:42.149Z"
   },
   {
    "duration": 4,
    "start_time": "2023-02-10T00:01:42.341Z"
   },
   {
    "duration": 12,
    "start_time": "2023-02-10T00:01:42.346Z"
   },
   {
    "duration": 13,
    "start_time": "2023-02-10T00:01:42.359Z"
   },
   {
    "duration": 20,
    "start_time": "2023-02-10T00:01:42.373Z"
   },
   {
    "duration": 7,
    "start_time": "2023-02-10T00:01:42.396Z"
   },
   {
    "duration": 14,
    "start_time": "2023-02-10T00:01:42.404Z"
   },
   {
    "duration": 6,
    "start_time": "2023-02-10T00:01:42.437Z"
   },
   {
    "duration": 7,
    "start_time": "2023-02-10T00:01:42.445Z"
   },
   {
    "duration": 13,
    "start_time": "2023-02-10T00:01:42.454Z"
   },
   {
    "duration": 14,
    "start_time": "2023-02-10T00:01:42.469Z"
   },
   {
    "duration": 23,
    "start_time": "2023-02-10T00:01:42.485Z"
   },
   {
    "duration": 22,
    "start_time": "2023-02-10T00:01:42.510Z"
   },
   {
    "duration": 7,
    "start_time": "2023-02-10T00:01:42.537Z"
   },
   {
    "duration": 18,
    "start_time": "2023-02-10T00:01:42.545Z"
   },
   {
    "duration": 329,
    "start_time": "2023-02-10T00:01:42.564Z"
   },
   {
    "duration": 129,
    "start_time": "2023-02-10T00:01:42.894Z"
   },
   {
    "duration": 155,
    "start_time": "2023-02-10T00:01:43.026Z"
   },
   {
    "duration": 290,
    "start_time": "2023-02-10T00:01:43.183Z"
   },
   {
    "duration": 143,
    "start_time": "2023-02-10T00:01:43.474Z"
   },
   {
    "duration": 37,
    "start_time": "2023-02-10T00:01:43.619Z"
   },
   {
    "duration": 29,
    "start_time": "2023-02-10T00:01:43.658Z"
   },
   {
    "duration": 85,
    "start_time": "2023-02-10T00:01:43.689Z"
   },
   {
    "duration": 43,
    "start_time": "2023-02-10T00:01:43.775Z"
   },
   {
    "duration": 58,
    "start_time": "2023-02-10T00:01:43.820Z"
   },
   {
    "duration": 40,
    "start_time": "2023-02-10T00:01:43.880Z"
   },
   {
    "duration": 3,
    "start_time": "2023-02-10T00:01:43.921Z"
   },
   {
    "duration": 4910,
    "start_time": "2023-02-10T00:01:43.937Z"
   },
   {
    "duration": 7,
    "start_time": "2023-02-10T00:01:48.848Z"
   },
   {
    "duration": 6,
    "start_time": "2023-02-10T00:01:48.857Z"
   },
   {
    "duration": 90,
    "start_time": "2023-02-10T00:01:48.865Z"
   },
   {
    "duration": 21,
    "start_time": "2023-02-10T00:01:48.957Z"
   },
   {
    "duration": 3,
    "start_time": "2023-02-10T00:01:48.982Z"
   },
   {
    "duration": 16,
    "start_time": "2023-02-10T00:01:48.986Z"
   },
   {
    "duration": 11,
    "start_time": "2023-02-10T00:01:49.004Z"
   },
   {
    "duration": 4088,
    "start_time": "2023-02-10T00:01:49.016Z"
   },
   {
    "duration": 88,
    "start_time": "2023-02-10T00:01:53.106Z"
   },
   {
    "duration": 130,
    "start_time": "2023-02-10T00:01:53.195Z"
   },
   {
    "duration": 913,
    "start_time": "2023-02-10T00:01:53.328Z"
   },
   {
    "duration": 6,
    "start_time": "2023-02-10T00:01:54.243Z"
   },
   {
    "duration": 3525,
    "start_time": "2023-02-10T00:01:54.251Z"
   },
   {
    "duration": 4363,
    "start_time": "2023-02-10T00:01:57.777Z"
   },
   {
    "duration": 7,
    "start_time": "2023-02-10T00:02:02.142Z"
   },
   {
    "duration": 115,
    "start_time": "2023-02-10T00:02:02.151Z"
   },
   {
    "duration": 240,
    "start_time": "2023-02-10T00:02:02.268Z"
   },
   {
    "duration": 119,
    "start_time": "2023-02-10T00:02:02.510Z"
   },
   {
    "duration": 259,
    "start_time": "2023-02-10T00:02:02.636Z"
   },
   {
    "duration": 1264,
    "start_time": "2023-02-10T19:40:14.282Z"
   },
   {
    "duration": 3,
    "start_time": "2023-02-10T19:40:15.548Z"
   },
   {
    "duration": 10,
    "start_time": "2023-02-10T19:40:15.552Z"
   },
   {
    "duration": 7,
    "start_time": "2023-02-10T19:40:15.564Z"
   },
   {
    "duration": 214,
    "start_time": "2023-02-10T19:40:15.573Z"
   },
   {
    "duration": 30,
    "start_time": "2023-02-10T19:40:15.789Z"
   },
   {
    "duration": 71,
    "start_time": "2023-02-10T19:40:15.820Z"
   },
   {
    "duration": 59,
    "start_time": "2023-02-10T19:40:15.893Z"
   },
   {
    "duration": 176,
    "start_time": "2023-02-10T19:40:15.953Z"
   },
   {
    "duration": 3,
    "start_time": "2023-02-10T19:40:16.131Z"
   },
   {
    "duration": 10,
    "start_time": "2023-02-10T19:40:16.136Z"
   },
   {
    "duration": 7,
    "start_time": "2023-02-10T19:40:16.147Z"
   },
   {
    "duration": 20,
    "start_time": "2023-02-10T19:40:16.156Z"
   },
   {
    "duration": 7,
    "start_time": "2023-02-10T19:40:16.178Z"
   },
   {
    "duration": 25,
    "start_time": "2023-02-10T19:40:16.187Z"
   },
   {
    "duration": 7,
    "start_time": "2023-02-10T19:40:16.213Z"
   },
   {
    "duration": 8,
    "start_time": "2023-02-10T19:40:16.221Z"
   },
   {
    "duration": 21,
    "start_time": "2023-02-10T19:40:16.230Z"
   },
   {
    "duration": 5,
    "start_time": "2023-02-10T19:40:16.253Z"
   },
   {
    "duration": 9,
    "start_time": "2023-02-10T19:40:16.260Z"
   },
   {
    "duration": 40,
    "start_time": "2023-02-10T19:40:16.270Z"
   },
   {
    "duration": 18,
    "start_time": "2023-02-10T19:40:16.312Z"
   },
   {
    "duration": 21,
    "start_time": "2023-02-10T19:40:16.331Z"
   },
   {
    "duration": 325,
    "start_time": "2023-02-10T19:40:16.354Z"
   },
   {
    "duration": 142,
    "start_time": "2023-02-10T19:40:16.681Z"
   },
   {
    "duration": 145,
    "start_time": "2023-02-10T19:40:16.824Z"
   },
   {
    "duration": 181,
    "start_time": "2023-02-10T19:40:16.970Z"
   },
   {
    "duration": 139,
    "start_time": "2023-02-10T19:40:17.153Z"
   },
   {
    "duration": 42,
    "start_time": "2023-02-10T19:40:17.294Z"
   },
   {
    "duration": 27,
    "start_time": "2023-02-10T19:40:17.338Z"
   },
   {
    "duration": 69,
    "start_time": "2023-02-10T19:40:17.366Z"
   },
   {
    "duration": 35,
    "start_time": "2023-02-10T19:40:17.437Z"
   },
   {
    "duration": 52,
    "start_time": "2023-02-10T19:40:17.474Z"
   },
   {
    "duration": 30,
    "start_time": "2023-02-10T19:40:17.528Z"
   },
   {
    "duration": 3,
    "start_time": "2023-02-10T19:40:17.560Z"
   },
   {
    "duration": 5704,
    "start_time": "2023-02-10T19:40:17.564Z"
   },
   {
    "duration": 7,
    "start_time": "2023-02-10T19:40:23.270Z"
   },
   {
    "duration": 86,
    "start_time": "2023-02-10T19:40:23.279Z"
   },
   {
    "duration": 86,
    "start_time": "2023-02-10T19:40:23.367Z"
   },
   {
    "duration": 17,
    "start_time": "2023-02-10T19:40:23.454Z"
   },
   {
    "duration": 2,
    "start_time": "2023-02-10T19:40:23.475Z"
   },
   {
    "duration": 5,
    "start_time": "2023-02-10T19:40:23.479Z"
   },
   {
    "duration": 23,
    "start_time": "2023-02-10T19:40:23.486Z"
   },
   {
    "duration": 4134,
    "start_time": "2023-02-10T19:40:23.511Z"
   },
   {
    "duration": 556,
    "start_time": "2023-02-10T19:40:27.647Z"
   },
   {
    "duration": 103,
    "start_time": "2023-02-10T19:40:28.205Z"
   },
   {
    "duration": 927,
    "start_time": "2023-02-10T19:40:28.310Z"
   },
   {
    "duration": 7,
    "start_time": "2023-02-10T19:40:29.239Z"
   },
   {
    "duration": 3442,
    "start_time": "2023-02-10T19:40:29.248Z"
   },
   {
    "duration": 4240,
    "start_time": "2023-02-10T19:40:32.691Z"
   },
   {
    "duration": 8,
    "start_time": "2023-02-10T19:40:36.932Z"
   },
   {
    "duration": 87,
    "start_time": "2023-02-10T19:40:36.942Z"
   },
   {
    "duration": 233,
    "start_time": "2023-02-10T19:40:37.031Z"
   },
   {
    "duration": 119,
    "start_time": "2023-02-10T19:40:37.265Z"
   },
   {
    "duration": 239,
    "start_time": "2023-02-10T19:40:37.385Z"
   }
  ],
  "kernelspec": {
   "display_name": "Python 3 (ipykernel)",
   "language": "python",
   "name": "python3"
  },
  "language_info": {
   "codemirror_mode": {
    "name": "ipython",
    "version": 3
   },
   "file_extension": ".py",
   "mimetype": "text/x-python",
   "name": "python",
   "nbconvert_exporter": "python",
   "pygments_lexer": "ipython3",
   "version": "3.10.9"
  },
  "toc": {
   "base_numbering": 1,
   "nav_menu": {},
   "number_sections": true,
   "sideBar": true,
   "skip_h1_title": true,
   "title_cell": "Table of Contents",
   "title_sidebar": "Contents",
   "toc_cell": false,
   "toc_position": {},
   "toc_section_display": true,
   "toc_window_display": false
  }
 },
 "nbformat": 4,
 "nbformat_minor": 2
}
